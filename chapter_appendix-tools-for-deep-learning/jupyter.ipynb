{
  "cells": [
    {
      "cell_type": "markdown",
      "metadata": {
        "id": "view-in-github",
        "colab_type": "text"
      },
      "source": [
        "<a href=\"https://colab.research.google.com/github/SAGARVKONE8/project/blob/main/chapter_appendix-tools-for-deep-learning/jupyter.ipynb\" target=\"_parent\"><img src=\"https://colab.research.google.com/assets/colab-badge.svg\" alt=\"Open In Colab\"/></a>"
      ]
    },
    {
      "cell_type": "markdown",
      "id": "31d9a4c9",
      "metadata": {
        "origin_pos": 0,
        "id": "31d9a4c9"
      },
      "source": [
        "# Using Jupyter Notebooks\n",
        ":label:`sec_jupyter`\n",
        "\n",
        "\n",
        "This section describes how to edit and run the code\n",
        "in each section of this book\n",
        "using the Jupyter Notebook. Make sure you have\n",
        "installed Jupyter and downloaded the\n",
        "code as described in\n",
        ":ref:`chap_installation`.\n",
        "If you want to know more about Jupyter see the excellent tutorial in\n",
        "their [documentation](https://jupyter.readthedocs.io/en/latest/).\n",
        "\n",
        "\n",
        "## Editing and Running the Code Locally\n",
        "\n",
        "Suppose that the local path of the book's code is `xx/yy/d2l-en/`. Use the shell to change the directory to this path (`cd xx/yy/d2l-en`) and run the command `jupyter notebook`. If your browser does not do this automatically, open http://localhost:8888 and you will see the interface of Jupyter and all the folders containing the code of the book, as shown in :numref:`fig_jupyter00`.\n",
        "\n",
        "![The folders containing the code of this book.](https://github.com/d2l-ai/d2l-en-colab/blob/master/img/jupyter00.png?raw=1)\n",
        ":width:`600px`\n",
        ":label:`fig_jupyter00`\n",
        "\n",
        "\n",
        "You can access the notebook files by clicking on the folder displayed on the webpage.\n",
        "They usually have the suffix \".ipynb\".\n",
        "For the sake of brevity, we create a temporary \"test.ipynb\" file.\n",
        "The content displayed after you click it is\n",
        "shown in :numref:`fig_jupyter01`.\n",
        "This notebook includes a markdown cell and a code cell. The content in the markdown cell includes \"This Is a Title\" and \"This is text.\".\n",
        "The code cell contains two lines of Python code.\n",
        "\n",
        "![Markdown and code cells in the \"text.ipynb\" file.](https://github.com/d2l-ai/d2l-en-colab/blob/master/img/jupyter01.png?raw=1)\n",
        ":width:`600px`\n",
        ":label:`fig_jupyter01`\n",
        "\n",
        "\n",
        "Double click on the markdown cell to enter edit mode.\n",
        "Add a new text string \"Hello world.\" at the end of the cell, as shown in :numref:`fig_jupyter02`.\n",
        "\n",
        "![Edit the markdown cell.](https://github.com/d2l-ai/d2l-en-colab/blob/master/img/jupyter02.png?raw=1)\n",
        ":width:`600px`\n",
        ":label:`fig_jupyter02`\n",
        "\n",
        "\n",
        "As demonstrated in :numref:`fig_jupyter03`,\n",
        "click \"Cell\" $\\rightarrow$ \"Run Cells\" in the menu bar to run the edited cell.\n",
        "\n",
        "![Run the cell.](https://github.com/d2l-ai/d2l-en-colab/blob/master/img/jupyter03.png?raw=1)\n",
        ":width:`600px`\n",
        ":label:`fig_jupyter03`\n",
        "\n",
        "After running, the markdown cell is shown in :numref:`fig_jupyter04`.\n",
        "\n",
        "![The markdown cell after running.](https://github.com/d2l-ai/d2l-en-colab/blob/master/img/jupyter04.png?raw=1)\n",
        ":width:`600px`\n",
        ":label:`fig_jupyter04`\n",
        "\n",
        "\n",
        "Next, click on the code cell. Multiply the elements by 2 after the last line of code, as shown in :numref:`fig_jupyter05`.\n",
        "\n",
        "![Edit the code cell.](https://github.com/d2l-ai/d2l-en-colab/blob/master/img/jupyter05.png?raw=1)\n",
        ":width:`600px`\n",
        ":label:`fig_jupyter05`\n",
        "\n",
        "\n",
        "You can also run the cell with a shortcut (\"Ctrl + Enter\" by default) and obtain the output result from :numref:`fig_jupyter06`.\n",
        "\n",
        "![Run the code cell to obtain the output.](https://github.com/d2l-ai/d2l-en-colab/blob/master/img/jupyter06.png?raw=1)\n",
        ":width:`600px`\n",
        ":label:`fig_jupyter06`\n",
        "\n",
        "\n",
        "When a notebook contains more cells, we can click \"Kernel\" $\\rightarrow$ \"Restart & Run All\" in the menu bar to run all the cells in the entire notebook. By clicking \"Help\" $\\rightarrow$ \"Edit Keyboard Shortcuts\" in the menu bar, you can edit the shortcuts according to your preferences.\n",
        "\n",
        "## Advanced Options\n",
        "\n",
        "Beyond local editing two things are quite important: editing the notebooks in the markdown format and running Jupyter remotely.\n",
        "The latter matters when we want to run the code on a faster server.\n",
        "The former matters since Jupyter's native ipynb format stores a lot of auxiliary data that is\n",
        "irrelevant to the content,\n",
        "mostly related to how and where the code is run.\n",
        "This is confusing for Git, making\n",
        "reviewing contributions very difficult.\n",
        "Fortunately there is an alternative---native editing in the markdown format.\n",
        "\n",
        "### Markdown Files in Jupyter\n",
        "\n",
        "If you wish to contribute to the content of this book, you need to modify the\n",
        "source file (md file, not ipynb file) on GitHub.\n",
        "Using the notedown plugin we\n",
        "can modify notebooks in the md format directly in Jupyter.\n",
        "\n",
        "\n",
        "First, install the notedown plugin, run the Jupyter Notebook, and load the plugin:\n",
        "\n",
        "```\n",
        "pip install d2l-notedown  # You may need to uninstall the original notedown.\n",
        "jupyter notebook --NotebookApp.contents_manager_class='notedown.NotedownContentsManager'\n",
        "```\n",
        "\n",
        "You may also turn on the notedown plugin by default whenever you run the Jupyter Notebook.\n",
        "First, generate a Jupyter Notebook configuration file (if it has already been generated, you can skip this step).\n",
        "\n",
        "```\n",
        "jupyter notebook --generate-config\n",
        "```\n",
        "\n",
        "Then, add the following line to the end of the Jupyter Notebook configuration file (for Linux or macOS, usually in the path `~/.jupyter/jupyter_notebook_config.py`):\n",
        "\n",
        "```\n",
        "c.NotebookApp.contents_manager_class = 'notedown.NotedownContentsManager'\n",
        "```\n",
        "\n",
        "After that, you only need to run the `jupyter notebook` command to turn on the notedown plugin by default.\n",
        "\n",
        "### Running Jupyter Notebooks on a Remote Server\n",
        "\n",
        "Sometimes, you may want to run Jupyter notebooks on a remote server and access it through a browser on your local computer. If Linux or macOS is installed on your local machine (Windows can also support this function through third-party software such as PuTTY), you can use port forwarding:\n",
        "\n",
        "```\n",
        "ssh myserver -L 8888:localhost:8888\n",
        "```\n",
        "\n",
        "The above string `myserver` is the address of the remote server.\n",
        "Then we can use http://localhost:8888 to access the remote server `myserver` that runs Jupyter notebooks. We will detail on how to run Jupyter notebooks on AWS instances\n",
        "later in this appendix.\n",
        "\n",
        "### Timing\n",
        "\n",
        "We can use the `ExecuteTime` plugin to time the execution of each code cell in Jupyter notebooks.\n",
        "Use the following commands to install the plugin:\n",
        "\n",
        "```\n",
        "pip install jupyter_contrib_nbextensions\n",
        "jupyter contrib nbextension install --user\n",
        "jupyter nbextension enable execute_time/ExecuteTime\n",
        "```\n",
        "\n",
        "## Summary\n",
        "\n",
        "* Using the Jupyter Notebook tool, we can edit, run, and contribute to each section of the book.\n",
        "* We can run Jupyter notebooks on remote servers using port forwarding.\n",
        "\n",
        "\n",
        "## Exercises\n",
        "\n",
        "1. Edit and run the code in this book with the Jupyter Notebook on your local machine.\n",
        "1. Edit and run the code in this book with the Jupyter Notebook *remotely* via port forwarding.\n",
        "1. Compare the running time of the operations $\\mathbf{A}^\\top \\mathbf{B}$ and $\\mathbf{A} \\mathbf{B}$ for two square matrices in $\\mathbb{R}^{1024 \\times 1024}$. Which one is faster?\n",
        "\n",
        "\n",
        "[Discussions](https://discuss.d2l.ai/t/421)\n"
      ]
    },
    {
      "cell_type": "code",
      "source": [
        " import tensorflow as tf\n",
        " from tensorflow.keras.preprocessing.sequence import pad_sequences\n",
        " from tensorflow.keras.models import Sequential"
      ],
      "metadata": {
        "id": "C88GDmExD1KF"
      },
      "id": "C88GDmExD1KF",
      "execution_count": 1,
      "outputs": []
    },
    {
      "cell_type": "code",
      "source": [
        "from tensorflow.keras.layers import Embedding,SimpleRNN,Dense\n",
        "from tensorflow.keras.datasets import imdb"
      ],
      "metadata": {
        "id": "NBHxUKqYGgNg"
      },
      "id": "NBHxUKqYGgNg",
      "execution_count": 2,
      "outputs": []
    },
    {
      "cell_type": "code",
      "source": [
        "vacob_size=10000\n",
        "(xtrain,ytrain),(xtest,ytest)=imdb.load_data(num_words=vacob_size)"
      ],
      "metadata": {
        "id": "IkWW02R5Gmwb"
      },
      "id": "IkWW02R5Gmwb",
      "execution_count": 4,
      "outputs": []
    },
    {
      "cell_type": "code",
      "source": [
        "from transformers import pipeline"
      ],
      "metadata": {
        "id": "W1mMR2WmfBRA"
      },
      "id": "W1mMR2WmfBRA",
      "execution_count": 5,
      "outputs": []
    },
    {
      "cell_type": "code",
      "source": [
        "sp=pipeline(\"sentiment-analysis\")"
      ],
      "metadata": {
        "colab": {
          "base_uri": "https://localhost:8080/",
          "height": 321,
          "referenced_widgets": [
            "13f13b210d2c49eea983a9f8beeb82b3",
            "07d08b38cba44b538f0de5a2290d1ca7",
            "442746bcdf664950bc85dfc589181996",
            "69ee4026bb7340fc92c5ab77c33731c0",
            "7e9a002ebb9247be9fd95a74ddfe73c2",
            "9ed4962104794f91b0d9618f0afc9aa3",
            "87a88dadd41a45489ced7c9234e732cc",
            "913049775bf34f42a1f443b948881bf0",
            "6a28fbac4c6642fda1b989cc1d9e3df1",
            "6e8e2dd965db4758b806d63a8392262c",
            "324a94bc60ce4c58a629527d70d46b0f",
            "e02591f8484b4e429e09ae5ca0af9926",
            "ee22458e46fa4b3ea7937b71d3d4d231",
            "9048cb9b22ed4af1802a5006100d669b",
            "7cf1452c248046a1b888048c6e4c4449",
            "520f934313e34e67871e9830f5a77b8e",
            "33789985cef049ad890a919a83773957",
            "e0a20e8a672a42c395a87550bbc7d11d",
            "59af66033e114e4a9bd31783f10561cd",
            "3d12dfd85861404d996861149afc9271",
            "87f0c450211c48deae5b63c0ff542f40",
            "1f025d769ae7446ea00532a74ffe043c",
            "b948af736be64f179c0e17e05addcb88",
            "107e805f0e5e41f9b4b96576245da614",
            "a201b1c24dc74b4aa9e9077f126f623b",
            "7199919172014977b7e2e744e363c130",
            "f13ba8ac38ea4e1a965080f5e661bc56",
            "8696227daa854737b4a59a592eb93cd8",
            "e8385a0cc6ad4f7491a8853d92e538d5",
            "9ed829be075145adb147fdd071926489",
            "cbe6caa686694845be3dc37e1a43e12f",
            "663b9a7c6f1b41c589fa7ddd696c79b6",
            "b74f0f25910d474ab8531e33a8899d26",
            "4aec9a8cca5245cfb884d812efe893d0",
            "e9aede61146b47ff9b7fb0de46e514e4",
            "b3d1bf9dfa1944108575a9875628e401",
            "b6fa2aa0b33a451b8bc174df6687bf29",
            "28326e253aa740e3b34bd908e9f89a58",
            "b3054dbcec52423d961be0a3d2e44a5b",
            "a7f9897808d34d62a67af91f3bdbd573",
            "fd966332aa664a7687cb568304ab1bcc",
            "6670893100c04397857e011c6a04c93c",
            "449c26bf46d64af7b3354ce9695a8f04",
            "44a10c8974554e35b48f163af5d097a7"
          ]
        },
        "id": "HiNvXEZ1fUwe",
        "outputId": "395e4c52-3ce5-4282-cf09-c4cb3a589db4"
      },
      "id": "HiNvXEZ1fUwe",
      "execution_count": 6,
      "outputs": [
        {
          "output_type": "stream",
          "name": "stderr",
          "text": [
            "No model was supplied, defaulted to distilbert/distilbert-base-uncased-finetuned-sst-2-english and revision 714eb0f (https://huggingface.co/distilbert/distilbert-base-uncased-finetuned-sst-2-english).\n",
            "Using a pipeline without specifying a model name and revision in production is not recommended.\n",
            "/usr/local/lib/python3.12/dist-packages/huggingface_hub/utils/_auth.py:94: UserWarning: \n",
            "The secret `HF_TOKEN` does not exist in your Colab secrets.\n",
            "To authenticate with the Hugging Face Hub, create a token in your settings tab (https://huggingface.co/settings/tokens), set it as secret in your Google Colab and restart your session.\n",
            "You will be able to reuse this secret in all of your notebooks.\n",
            "Please note that authentication is recommended but still optional to access public models or datasets.\n",
            "  warnings.warn(\n"
          ]
        },
        {
          "output_type": "display_data",
          "data": {
            "text/plain": [
              "config.json:   0%|          | 0.00/629 [00:00<?, ?B/s]"
            ],
            "application/vnd.jupyter.widget-view+json": {
              "version_major": 2,
              "version_minor": 0,
              "model_id": "13f13b210d2c49eea983a9f8beeb82b3"
            }
          },
          "metadata": {}
        },
        {
          "output_type": "display_data",
          "data": {
            "text/plain": [
              "model.safetensors:   0%|          | 0.00/268M [00:00<?, ?B/s]"
            ],
            "application/vnd.jupyter.widget-view+json": {
              "version_major": 2,
              "version_minor": 0,
              "model_id": "e02591f8484b4e429e09ae5ca0af9926"
            }
          },
          "metadata": {}
        },
        {
          "output_type": "display_data",
          "data": {
            "text/plain": [
              "tokenizer_config.json:   0%|          | 0.00/48.0 [00:00<?, ?B/s]"
            ],
            "application/vnd.jupyter.widget-view+json": {
              "version_major": 2,
              "version_minor": 0,
              "model_id": "b948af736be64f179c0e17e05addcb88"
            }
          },
          "metadata": {}
        },
        {
          "output_type": "display_data",
          "data": {
            "text/plain": [
              "vocab.txt: 0.00B [00:00, ?B/s]"
            ],
            "application/vnd.jupyter.widget-view+json": {
              "version_major": 2,
              "version_minor": 0,
              "model_id": "4aec9a8cca5245cfb884d812efe893d0"
            }
          },
          "metadata": {}
        },
        {
          "output_type": "stream",
          "name": "stderr",
          "text": [
            "Device set to use cpu\n"
          ]
        }
      ]
    },
    {
      "cell_type": "code",
      "source": [
        "review=input(\"Enter the review:\")\n",
        "print(sp(review))"
      ],
      "metadata": {
        "colab": {
          "base_uri": "https://localhost:8080/"
        },
        "id": "He8nGidNhol8",
        "outputId": "b6997fd0-42dc-4d4e-ce78-00a717e09892"
      },
      "id": "He8nGidNhol8",
      "execution_count": 7,
      "outputs": [
        {
          "output_type": "stream",
          "name": "stdout",
          "text": [
            "Enter the review:movie is good\n",
            "[{'label': 'POSITIVE', 'score': 0.9998582601547241}]\n"
          ]
        }
      ]
    },
    {
      "cell_type": "code",
      "source": [
        "emotion_analyzer=pipeline(\n",
        "    'text-classification',model='bhadresh-savani/distilbert-base-uncased-emotion'\n",
        ")"
      ],
      "metadata": {
        "colab": {
          "base_uri": "https://localhost:8080/",
          "height": 194,
          "referenced_widgets": [
            "38d0bb3b586244b79963ec1b1ee15a8e",
            "c81a49aca2ba4ad181bd05ea7f17877d",
            "ae39fdfe5a9d4d75a5455fe3c0dc7c0a",
            "9a9d15295753474689f62436e8b2df6b",
            "6a270e87ba3545b2a791260ea431d521",
            "2fb55a1f14454ce39f3b038778b1f30a",
            "15ba7ee423c64c4d8767330ffe6c0b5e",
            "c142309cab0d416d86f85f40f233b10f",
            "48b017a47dde4b7ca06b3c50a379b14e",
            "ee277a1d3cb5457bae871748e6acee0d",
            "8fdb9268fbaa45499581f5ec06f9a9db",
            "acf6487782ae405c997a57924dc1ef00",
            "60ff61727b914160ae9f9d5f1ae5b95b",
            "a4667c916f5d414ca63db61ad9a90c1c",
            "a2275b911cd74f2da9a5a483f3099d49",
            "9cd1a3126f3b404f87783450a9ddfc41",
            "ead72b1e0b6f46edbadc50990ee298b5",
            "636c20ed802f43ebba27b91b106d143d",
            "d8053137c3e840ebbc90e9323a6dbcd8",
            "0e1f546f440e4fb98de027a3cbda84a3",
            "855cb4f8011a4b5a8f462ec6d0e762fb",
            "e15f93f164f64d15b1ab834ac3bf8d5f",
            "0029269ef43c4a34a3e983d69cc571ad",
            "d83589ee5854411dbb972be05118f88a",
            "7dd87f286d2a4e5598dba69c5ca227f6",
            "89c5ab48cf954f44bfd829db37344772",
            "566af80574384fcca6c5a2e27520aca2",
            "4ab097e1c3cb4ffb91cddcb491390ccd",
            "65bbfc66d5d84c4888ed95fa1c6af5cb",
            "f815223226f745089009b03fbffe7ab1",
            "d7a035fa317b4d6b8674e177235e6e5a",
            "42946a2aea6943ae891dcc5cfcb1db12",
            "211eb265a0b94abd9c561bba4ae5b65f",
            "e95afb9d60f54c5b99f37cfb1d060def",
            "def3fcd1cda34396814cf079d4b3cde3",
            "2d69949423ac4cc0aaa2e98ca40d5b17",
            "3e2bdf34355c4ea4b2878c5744982e32",
            "e70b5fb04a824bf7ae7f23443b9a73d3",
            "78072364af3941ab8961f5ece33bfdad",
            "5109341e7ff04507b8e464923c954f59",
            "b40d0665eaea4d0db6de81615be1537a",
            "71b84dfe929f40a6be469befed17c594",
            "3cfc886b2ba4444a831bbdbabcddb043",
            "26e39cf04f5342feacf908748a6f50ea",
            "1ccd50ba83c341beba7588f2d92da777",
            "f85d8ac277ec4430b7c38d9b3d77c568",
            "9a63603a5b5d46afa81f32c993940678",
            "ffe080c7c83a4f8181ae9a3f13e17f61",
            "e6ef63d03618457182b8f9888d2174bd",
            "04bbbd75510748b8a32f37a127ec8b43",
            "5a4522d59af84f11b2203e9dc43e34f1",
            "e93b8bf29bad4135aea45b49b7376dba",
            "f2d79e2494954f638a6bffc3e1f6ef52",
            "050a070c7f1a4be99b2aa0bc3e69aa4b",
            "af86b215395a4765b73355a405ec7764"
          ]
        },
        "id": "dRrmTYOKiKdI",
        "outputId": "39e449e9-98a6-4cb0-ee13-a4958c6f923d"
      },
      "id": "dRrmTYOKiKdI",
      "execution_count": 8,
      "outputs": [
        {
          "output_type": "display_data",
          "data": {
            "text/plain": [
              "config.json:   0%|          | 0.00/768 [00:00<?, ?B/s]"
            ],
            "application/vnd.jupyter.widget-view+json": {
              "version_major": 2,
              "version_minor": 0,
              "model_id": "38d0bb3b586244b79963ec1b1ee15a8e"
            }
          },
          "metadata": {}
        },
        {
          "output_type": "display_data",
          "data": {
            "text/plain": [
              "model.safetensors:   0%|          | 0.00/268M [00:00<?, ?B/s]"
            ],
            "application/vnd.jupyter.widget-view+json": {
              "version_major": 2,
              "version_minor": 0,
              "model_id": "acf6487782ae405c997a57924dc1ef00"
            }
          },
          "metadata": {}
        },
        {
          "output_type": "display_data",
          "data": {
            "text/plain": [
              "tokenizer_config.json:   0%|          | 0.00/291 [00:00<?, ?B/s]"
            ],
            "application/vnd.jupyter.widget-view+json": {
              "version_major": 2,
              "version_minor": 0,
              "model_id": "0029269ef43c4a34a3e983d69cc571ad"
            }
          },
          "metadata": {}
        },
        {
          "output_type": "display_data",
          "data": {
            "text/plain": [
              "vocab.txt: 0.00B [00:00, ?B/s]"
            ],
            "application/vnd.jupyter.widget-view+json": {
              "version_major": 2,
              "version_minor": 0,
              "model_id": "e95afb9d60f54c5b99f37cfb1d060def"
            }
          },
          "metadata": {}
        },
        {
          "output_type": "display_data",
          "data": {
            "text/plain": [
              "special_tokens_map.json:   0%|          | 0.00/112 [00:00<?, ?B/s]"
            ],
            "application/vnd.jupyter.widget-view+json": {
              "version_major": 2,
              "version_minor": 0,
              "model_id": "1ccd50ba83c341beba7588f2d92da777"
            }
          },
          "metadata": {}
        },
        {
          "output_type": "stream",
          "name": "stderr",
          "text": [
            "Device set to use cpu\n"
          ]
        }
      ]
    },
    {
      "cell_type": "code",
      "source": [
        "text='she broke my heart'"
      ],
      "metadata": {
        "id": "XvrzoagCfdiQ"
      },
      "id": "XvrzoagCfdiQ",
      "execution_count": 9,
      "outputs": []
    },
    {
      "cell_type": "code",
      "source": [
        "emotion=emotion_analyzer(text)"
      ],
      "metadata": {
        "id": "eVKErisBhWIP"
      },
      "id": "eVKErisBhWIP",
      "execution_count": 10,
      "outputs": []
    },
    {
      "cell_type": "code",
      "source": [
        "emotion"
      ],
      "metadata": {
        "colab": {
          "base_uri": "https://localhost:8080/"
        },
        "id": "SO3ifuZMirEX",
        "outputId": "b713957f-bc9c-431e-d111-35646e768856"
      },
      "id": "SO3ifuZMirEX",
      "execution_count": 11,
      "outputs": [
        {
          "output_type": "execute_result",
          "data": {
            "text/plain": [
              "[{'label': 'sadness', 'score': 0.998077392578125}]"
            ]
          },
          "metadata": {},
          "execution_count": 11
        }
      ]
    },
    {
      "cell_type": "code",
      "source": [
        "import gradio as gr\n",
        "from transformers import pipeline\n",
        "from gtts import gTTS\n",
        "sp = pipeline(\"sentiment-analysis\")\n",
        "emotion_analyzer = pipeline(\"text-classification\", model=\"j-hartmann/emotion-english-distilroberta-base\")\n",
        "def analyze_sentiment_and_emotion(review):\n",
        "    sentiment_result = sp(review)\n",
        "    emotion_result = emotion_analyzer(review)\n",
        "    sentiment_message = f\"Sentiment: {sentiment_result[0]['label']} with score {sentiment_result[0]['score']:.4f}\"\n",
        "    emotion_message = f\"Emotion: {emotion_result[0]['label']} with score {emotion_result[0]['score']:.4f}\"\n",
        "    full_message = f\"{sentiment_message}\\n{emotion_message}\"\n",
        "    tts = gTTS(text=full_message, lang='en')\n",
        "    audio_file = \"sentiment_emotion.mp3\"\n",
        "    tts.save(audio_file)\n",
        "    return full_message, audio_file\n",
        "iface = gr.Interface(\n",
        "    fn=analyze_sentiment_and_emotion,\n",
        "    inputs=\"text\",\n",
        "    outputs=[gr.Textbox(), gr.Audio()],\n",
        "    live=True,\n",
        "    title=\"Sentiment and Emotion Analysis\",\n",
        "    description=\"Enter a review or text to analyze its sentiment and emotion. The result will also be spoken aloud.\"\n",
        ")\n",
        "iface.launch()\n"
      ],
      "metadata": {
        "colab": {
          "base_uri": "https://localhost:8080/",
          "height": 715
        },
        "id": "WC3k28TNH2kW",
        "outputId": "85738944-e67e-4be0-e09b-605bc0480ac6"
      },
      "id": "WC3k28TNH2kW",
      "execution_count": 5,
      "outputs": [
        {
          "output_type": "stream",
          "name": "stderr",
          "text": [
            "No model was supplied, defaulted to distilbert/distilbert-base-uncased-finetuned-sst-2-english and revision 714eb0f (https://huggingface.co/distilbert/distilbert-base-uncased-finetuned-sst-2-english).\n",
            "Using a pipeline without specifying a model name and revision in production is not recommended.\n",
            "Device set to use cpu\n",
            "Device set to use cpu\n"
          ]
        },
        {
          "output_type": "stream",
          "name": "stdout",
          "text": [
            "It looks like you are running Gradio on a hosted Jupyter notebook, which requires `share=True`. Automatically setting `share=True` (you can turn this off by setting `share=False` in `launch()` explicitly).\n",
            "\n",
            "Colab notebook detected. To show errors in colab notebook, set debug=True in launch()\n",
            "* Running on public URL: https://817769f4b45e9281f2.gradio.live\n",
            "\n",
            "This share link expires in 1 week. For free permanent hosting and GPU upgrades, run `gradio deploy` from the terminal in the working directory to deploy to Hugging Face Spaces (https://huggingface.co/spaces)\n"
          ]
        },
        {
          "output_type": "display_data",
          "data": {
            "text/plain": [
              "<IPython.core.display.HTML object>"
            ],
            "text/html": [
              "<div><iframe src=\"https://817769f4b45e9281f2.gradio.live\" width=\"100%\" height=\"500\" allow=\"autoplay; camera; microphone; clipboard-read; clipboard-write;\" frameborder=\"0\" allowfullscreen></iframe></div>"
            ]
          },
          "metadata": {}
        },
        {
          "output_type": "execute_result",
          "data": {
            "text/plain": []
          },
          "metadata": {},
          "execution_count": 5
        }
      ]
    },
    {
      "cell_type": "code",
      "source": [
        "from PIL import Image\n",
        "import numpy as np\n",
        "import matplotlib.pyplot as plt"
      ],
      "metadata": {
        "id": "rAq5P_sFLBxa"
      },
      "id": "rAq5P_sFLBxa",
      "execution_count": 24,
      "outputs": []
    },
    {
      "cell_type": "code",
      "source": [
        " img=Image.open('/content/images.jpg')\n",
        " img"
      ],
      "metadata": {
        "colab": {
          "base_uri": "https://localhost:8080/",
          "height": 195
        },
        "id": "n3J-2FaMLFr_",
        "outputId": "9cdbdfd6-6921-43cb-c670-3f5c89dd8a95"
      },
      "id": "n3J-2FaMLFr_",
      "execution_count": 36,
      "outputs": [
        {
          "output_type": "execute_result",
          "data": {
            "text/plain": [
              "<PIL.JpegImagePlugin.JpegImageFile image mode=RGB size=283x178>"
            ],
            "image/png": "[encoded data removed]",
            "image/jpeg": "[encoded data removed]"
          },
          "metadata": {},
          "execution_count": 36
        }
      ]
    },
    {
      "cell_type": "code",
      "source": [
        "img.size"
      ],
      "metadata": {
        "colab": {
          "base_uri": "https://localhost:8080/"
        },
        "id": "c7Prk08RLFko",
        "outputId": "cdf8f27b-b5fe-4c35-b739-6fa061815cd2"
      },
      "id": "c7Prk08RLFko",
      "execution_count": 26,
      "outputs": [
        {
          "output_type": "execute_result",
          "data": {
            "text/plain": [
              "(283, 178)"
            ]
          },
          "metadata": {},
          "execution_count": 26
        }
      ]
    },
    {
      "cell_type": "code",
      "source": [
        " img.mode"
      ],
      "metadata": {
        "colab": {
          "base_uri": "https://localhost:8080/",
          "height": 36
        },
        "id": "et1cfDyFMKh9",
        "outputId": "6060d5a0-0551-4672-ec9c-a4dfae72cecf"
      },
      "id": "et1cfDyFMKh9",
      "execution_count": 27,
      "outputs": [
        {
          "output_type": "execute_result",
          "data": {
            "text/plain": [
              "'RGB'"
            ],
            "application/vnd.google.colaboratory.intrinsic+json": {
              "type": "string"
            }
          },
          "metadata": {},
          "execution_count": 27
        }
      ]
    },
    {
      "cell_type": "code",
      "source": [
        "imga=np.array(img)\n",
        "imga"
      ],
      "metadata": {
        "colab": {
          "base_uri": "https://localhost:8080/",
          "height": 219
        },
        "id": "kiSDabpaMOC6",
        "outputId": "b98cb991-eb97-40a4-b89a-9e59ec30a292"
      },
      "id": "kiSDabpaMOC6",
      "execution_count": 37,
      "outputs": [
        {
          "output_type": "execute_result",
          "data": {
            "text/plain": [
              "array([[[ 99,   1,  14],\n",
              "        [100,   2,  15],\n",
              "        [102,   1,  15],\n",
              "        ...,\n",
              "        [ 59,   0,   2],\n",
              "        [ 59,   0,   2],\n",
              "        [ 59,   0,   2]],\n",
              "\n",
              "       [[ 99,   1,  14],\n",
              "        [100,   2,  15],\n",
              "        [102,   1,  15],\n",
              "        ...,\n",
              "        [ 59,   0,   2],\n",
              "        [ 59,   0,   2],\n",
              "        [ 59,   0,   2]],\n",
              "\n",
              "       [[101,   0,  14],\n",
              "        [102,   1,  15],\n",
              "        [102,   1,  15],\n",
              "        ...,\n",
              "        [ 59,   0,   2],\n",
              "        [ 59,   0,   2],\n",
              "        [ 59,   0,   2]],\n",
              "\n",
              "       ...,\n",
              "\n",
              "       [[ 86,   1,   8],\n",
              "        [ 86,   1,   8],\n",
              "        [ 87,   0,   8],\n",
              "        ...,\n",
              "        [ 32,   1,   0],\n",
              "        [ 32,   1,   0],\n",
              "        [ 32,   1,   0]],\n",
              "\n",
              "       [[ 83,   1,   7],\n",
              "        [ 83,   1,   7],\n",
              "        [ 85,   0,   7],\n",
              "        ...,\n",
              "        [ 30,   0,   2],\n",
              "        [ 30,   0,   2],\n",
              "        [ 30,   0,   2]],\n",
              "\n",
              "       [[ 83,   1,   7],\n",
              "        [ 83,   1,   7],\n",
              "        [ 85,   0,   7],\n",
              "        ...,\n",
              "        [ 30,   0,   2],\n",
              "        [ 30,   0,   2],\n",
              "        [ 30,   0,   2]]], dtype=uint8)"
            ],
            "text/html": [
              "<style>\n",
              "      .ndarray_repr .ndarray_raw_data {\n",
              "        display: none;\n",
              "      }\n",
              "      .ndarray_repr.show_array .ndarray_raw_data {\n",
              "        display: block;\n",
              "      }\n",
              "      .ndarray_repr.show_array .ndarray_image_preview {\n",
              "        display: none;\n",
              "      }\n",
              "      </style>\n",
              "      <div id=\"id-6016898c-663c-4ab9-bd33-5aebc2583648\" class=\"ndarray_repr\"><pre>ndarray (178, 283, 3) <button style=\"padding: 0 2px;\">show data</button></pre><img src=\"data:image/png;base64,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\" class=\"ndarray_image_preview\" /><pre class=\"ndarray_raw_data\">array([[[ 99,   1,  14],\n",
              "        [100,   2,  15],\n",
              "        [102,   1,  15],\n",
              "        ...,\n",
              "        [ 59,   0,   2],\n",
              "        [ 59,   0,   2],\n",
              "        [ 59,   0,   2]],\n",
              "\n",
              "       [[ 99,   1,  14],\n",
              "        [100,   2,  15],\n",
              "        [102,   1,  15],\n",
              "        ...,\n",
              "        [ 59,   0,   2],\n",
              "        [ 59,   0,   2],\n",
              "        [ 59,   0,   2]],\n",
              "\n",
              "       [[101,   0,  14],\n",
              "        [102,   1,  15],\n",
              "        [102,   1,  15],\n",
              "        ...,\n",
              "        [ 59,   0,   2],\n",
              "        [ 59,   0,   2],\n",
              "        [ 59,   0,   2]],\n",
              "\n",
              "       ...,\n",
              "\n",
              "       [[ 86,   1,   8],\n",
              "        [ 86,   1,   8],\n",
              "        [ 87,   0,   8],\n",
              "        ...,\n",
              "        [ 32,   1,   0],\n",
              "        [ 32,   1,   0],\n",
              "        [ 32,   1,   0]],\n",
              "\n",
              "       [[ 83,   1,   7],\n",
              "        [ 83,   1,   7],\n",
              "        [ 85,   0,   7],\n",
              "        ...,\n",
              "        [ 30,   0,   2],\n",
              "        [ 30,   0,   2],\n",
              "        [ 30,   0,   2]],\n",
              "\n",
              "       [[ 83,   1,   7],\n",
              "        [ 83,   1,   7],\n",
              "        [ 85,   0,   7],\n",
              "        ...,\n",
              "        [ 30,   0,   2],\n",
              "        [ 30,   0,   2],\n",
              "        [ 30,   0,   2]]], dtype=uint8)</pre></div><script>\n",
              "      (() => {\n",
              "      const titles = ['show data', 'hide data'];\n",
              "      let index = 0\n",
              "      document.querySelector('#id-6016898c-663c-4ab9-bd33-5aebc2583648 button').onclick = (e) => {\n",
              "        document.querySelector('#id-6016898c-663c-4ab9-bd33-5aebc2583648').classList.toggle('show_array');\n",
              "        index = (++index) % 2;\n",
              "        document.querySelector('#id-6016898c-663c-4ab9-bd33-5aebc2583648 button').textContent = titles[index];\n",
              "        e.preventDefault();\n",
              "        e.stopPropagation();\n",
              "      }\n",
              "      })();\n",
              "    </script>"
            ]
          },
          "metadata": {},
          "execution_count": 37
        }
      ]
    },
    {
      "cell_type": "code",
      "source": [
        "gimga=img.convert('L')\n",
        "gimga"
      ],
      "metadata": {
        "colab": {
          "base_uri": "https://localhost:8080/",
          "height": 195
        },
        "id": "9sJR-3eAMT9W",
        "outputId": "04df5517-652f-4cc6-fd43-7e97bb58dc9d"
      },
      "id": "9sJR-3eAMT9W",
      "execution_count": 35,
      "outputs": [
        {
          "output_type": "execute_result",
          "data": {
            "text/plain": [
              "<PIL.Image.Image image mode=L size=283x178>"
            ],
            "image/png": "[encoded data removed]",
            "image/jpeg": "[encoded data removed]"
          },
          "metadata": {},
          "execution_count": 35
        }
      ]
    },
    {
      "cell_type": "code",
      "source": [
        " from PIL import Image,ImageFilter"
      ],
      "metadata": {
        "id": "v7Fk7n1MM6s_"
      },
      "id": "v7Fk7n1MM6s_",
      "execution_count": 30,
      "outputs": []
    },
    {
      "cell_type": "code",
      "source": [
        "bluri=img.filter(ImageFilter.BLUR)\n",
        "bluri"
      ],
      "metadata": {
        "colab": {
          "base_uri": "https://localhost:8080/",
          "height": 195
        },
        "id": "Dh40aTDBM93d",
        "outputId": "2f592865-6717-439d-a78d-2d954c734a98"
      },
      "id": "Dh40aTDBM93d",
      "execution_count": 32,
      "outputs": [
        {
          "output_type": "execute_result",
          "data": {
            "text/plain": [
              "<PIL.Image.Image image mode=RGB size=283x178>"
            ],
            "image/png": "[encoded data removed]",
            "image/jpeg": "[encoded data removed]"
          },
          "metadata": {},
          "execution_count": 32
        }
      ]
    },
    {
      "cell_type": "code",
      "source": [
        " c=img.filter(filter=ImageFilter.CONTOUR)\n",
        " c"
      ],
      "metadata": {
        "colab": {
          "base_uri": "https://localhost:8080/",
          "height": 195
        },
        "id": "6NO_DMsfNLKM",
        "outputId": "9a55c78b-07fd-48f3-8d7d-054a1abd58b8"
      },
      "id": "6NO_DMsfNLKM",
      "execution_count": 38,
      "outputs": [
        {
          "output_type": "execute_result",
          "data": {
            "text/plain": [
              "<PIL.Image.Image image mode=RGB size=283x178>"
            ],
            "image/png": "[encoded data removed]",
            "image/jpeg": "[encoded data removed]"
          },
          "metadata": {},
          "execution_count": 38
        }
      ]
    },
    {
      "cell_type": "code",
      "source": [
        " d=img.filter(filter=ImageFilter.DETAIL)\n",
        " d"
      ],
      "metadata": {
        "colab": {
          "base_uri": "https://localhost:8080/",
          "height": 195
        },
        "id": "glg4_-6ENVpM",
        "outputId": "88294baf-369c-47da-8a6e-b4dc1d6cfd86"
      },
      "id": "glg4_-6ENVpM",
      "execution_count": 39,
      "outputs": [
        {
          "output_type": "execute_result",
          "data": {
            "text/plain": [
              "<PIL.Image.Image image mode=RGB size=283x178>"
            ],
            "image/png": "[encoded data removed]",
            "image/jpeg": "[encoded data removed]"
          },
          "metadata": {},
          "execution_count": 39
        }
      ]
    },
    {
      "cell_type": "code",
      "source": [
        "ie=img.filter(filter=ImageFilter.EDGE_ENHANCE_MORE)\n",
        "ie"
      ],
      "metadata": {
        "colab": {
          "base_uri": "https://localhost:8080/",
          "height": 195
        },
        "id": "QkHCQOTJNbPb",
        "outputId": "dd053515-98d1-4a9c-9914-216fe633fe3d"
      },
      "id": "QkHCQOTJNbPb",
      "execution_count": 40,
      "outputs": [
        {
          "output_type": "execute_result",
          "data": {
            "text/plain": [
              "<PIL.Image.Image image mode=RGB size=283x178>"
            ],
            "image/png": "[encoded data removed]",
            "image/jpeg": "[encoded data removed]"
          },
          "metadata": {},
          "execution_count": 40
        }
      ]
    },
    {
      "cell_type": "code",
      "source": [
        " em=img.filter(filter=ImageFilter.EMBOSS)\n",
        " em"
      ],
      "metadata": {
        "colab": {
          "base_uri": "https://localhost:8080/",
          "height": 195
        },
        "id": "D4y77ZnoNfKA",
        "outputId": "b9452038-c3aa-41a9-bd43-013fbec17ec5"
      },
      "id": "D4y77ZnoNfKA",
      "execution_count": 41,
      "outputs": [
        {
          "output_type": "execute_result",
          "data": {
            "text/plain": [
              "<PIL.Image.Image image mode=RGB size=283x178>"
            ],
            "image/png": "[encoded data removed]",
            "image/jpeg": "[encoded data removed]"
          },
          "metadata": {},
          "execution_count": 41
        }
      ]
    },
    {
      "cell_type": "code",
      "source": [
        "def Bill(m, tc, img):\n",
        "    bill = 0\n",
        "    if m == 'idly':\n",
        "        bill += 50\n",
        "    elif m == 'Dose':\n",
        "        bill += 70\n",
        "    if tc == 'Coffe':\n",
        "        bill += 15\n",
        "    elif tc == 'Tea':\n",
        "        bill += 20\n",
        "    return f'The total bill is {bill} rs', img"
      ],
      "metadata": {
        "id": "hafPGd3WNtt3"
      },
      "id": "hafPGd3WNtt3",
      "execution_count": 45,
      "outputs": []
    },
    {
      "cell_type": "code",
      "source": [
        "import gradio as gr\n",
        "iface = gr.Interface(\n",
        "    fn=Bill,\n",
        "    inputs=[\n",
        "        gr.Radio(choices=['idly', 'Dose'], label=\"Food Item\"),\n",
        "        gr.Radio(choices=['Tea', 'Coffe'], label=\"Drink Item\"),\n",
        "        gr.Image(type=\"pil\", label=\"Upload Image\")\n",
        "    ],\n",
        "    outputs=[\n",
        "        gr.Textbox(label=\"Bill\"),\n",
        "        gr.Image(type=\"pil\", label=\"Uploaded Image\")\n",
        "    ],\n",
        "    live=True,\n",
        "    title=\"Bill Calculator\",\n",
        "    description=\"Select food and drink items to calculate the bill. Upload an image to see it displayed.\"\n",
        ")\n",
        "iface.launch()"
      ],
      "metadata": {
        "colab": {
          "base_uri": "https://localhost:8080/",
          "height": 646
        },
        "id": "rtHDJU_pOSNB",
        "outputId": "689d7d82-4a8f-415a-cbdc-20ec461ec924"
      },
      "id": "rtHDJU_pOSNB",
      "execution_count": 57,
      "outputs": [
        {
          "output_type": "stream",
          "name": "stdout",
          "text": [
            "It looks like you are running Gradio on a hosted Jupyter notebook, which requires `share=True`. Automatically setting `share=True` (you can turn this off by setting `share=False` in `launch()` explicitly).\n",
            "\n",
            "Colab notebook detected. To show errors in colab notebook, set debug=True in launch()\n",
            "* Running on public URL: https://fec1d99f6325e2ecf4.gradio.live\n",
            "\n",
            "This share link expires in 1 week. For free permanent hosting and GPU upgrades, run `gradio deploy` from the terminal in the working directory to deploy to Hugging Face Spaces (https://huggingface.co/spaces)\n"
          ]
        },
        {
          "output_type": "display_data",
          "data": {
            "text/plain": [
              "<IPython.core.display.HTML object>"
            ],
            "text/html": [
              "<div><iframe src=\"https://fec1d99f6325e2ecf4.gradio.live\" width=\"100%\" height=\"500\" allow=\"autoplay; camera; microphone; clipboard-read; clipboard-write;\" frameborder=\"0\" allowfullscreen></iframe></div>"
            ]
          },
          "metadata": {}
        },
        {
          "output_type": "execute_result",
          "data": {
            "text/plain": []
          },
          "metadata": {},
          "execution_count": 57
        }
      ]
    },
    {
      "cell_type": "code",
      "source": [
        "import gradio as gr\n",
        "from PIL import Image, ImageFilter\n",
        "def apply_filter(img, filter_choice):\n",
        "    if filter_choice == \"Original\":\n",
        "        return img\n",
        "    elif filter_choice == \"Grayscale\":\n",
        "        return img.convert(\"L\")\n",
        "    elif filter_choice == \"BLUR\":\n",
        "        return img.filter(ImageFilter.BLUR)\n",
        "    elif filter_choice == \"CONTOUR\":\n",
        "        return img.filter(ImageFilter.CONTOUR)\n",
        "    elif filter_choice == \"DETAIL\":\n",
        "        return img.filter(ImageFilter.DETAIL)\n",
        "    elif filter_choice == \"EDGE_ENHANCE\":\n",
        "        return img.filter(ImageFilter.EDGE_ENHANCE_MORE)\n",
        "    elif filter_choice == \"EMBOSS\":\n",
        "        return img.filter(ImageFilter.EMBOSS)\n",
        "    else:\n",
        "        return img\n",
        "iface = gr.Interface(\n",
        "    fn=apply_filter,\n",
        "    inputs=[\n",
        "        gr.Image(type=\"pil\", label=\"Upload Image\"),\n",
        "        gr.Radio(\n",
        "            choices=[\"Original\", \"Grayscale\", \"BLUR\", \"CONTOUR\", \"DETAIL\", \"EDGE_ENHANCE\", \"EMBOSS\"],\n",
        "            label=\"Choose a Filter\"\n",
        "        )\n",
        "    ],\n",
        "    outputs=gr.Image(type=\"pil\", label=\"Filtered Image\"),\n",
        "    live=True,\n",
        "    title=\"Image Filter App\",\n",
        "    description=\"Upload an image and choose a filter to apply (grayscale, blur, contour, etc.)\"\n",
        ")\n",
        "iface.launch()"
      ],
      "metadata": {
        "colab": {
          "base_uri": "https://localhost:8080/",
          "height": 646
        },
        "id": "Yf8DFHAlYhmZ",
        "outputId": "96fdad12-38fc-4762-fa4e-7a19514e61ad"
      },
      "id": "Yf8DFHAlYhmZ",
      "execution_count": 59,
      "outputs": [
        {
          "output_type": "stream",
          "name": "stdout",
          "text": [
            "It looks like you are running Gradio on a hosted Jupyter notebook, which requires `share=True`. Automatically setting `share=True` (you can turn this off by setting `share=False` in `launch()` explicitly).\n",
            "\n",
            "Colab notebook detected. To show errors in colab notebook, set debug=True in launch()\n",
            "* Running on public URL: https://621f89958f9aa7b1ce.gradio.live\n",
            "\n",
            "This share link expires in 1 week. For free permanent hosting and GPU upgrades, run `gradio deploy` from the terminal in the working directory to deploy to Hugging Face Spaces (https://huggingface.co/spaces)\n"
          ]
        },
        {
          "output_type": "display_data",
          "data": {
            "text/plain": [
              "<IPython.core.display.HTML object>"
            ],
            "text/html": [
              "<div><iframe src=\"https://621f89958f9aa7b1ce.gradio.live\" width=\"100%\" height=\"500\" allow=\"autoplay; camera; microphone; clipboard-read; clipboard-write;\" frameborder=\"0\" allowfullscreen></iframe></div>"
            ]
          },
          "metadata": {}
        },
        {
          "output_type": "execute_result",
          "data": {
            "text/plain": []
          },
          "metadata": {},
          "execution_count": 59
        }
      ]
    }
  ],
  "metadata": {
    "kernelspec": {
      "display_name": "Python 3",
      "name": "python3"
    },
    "language_info": {
      "name": "python"
    },
    "required_libs": [],
    "colab": {
      "provenance": [],
      "include_colab_link": true
    },
    "widgets": {
      "application/vnd.jupyter.widget-state+json": {
        "13f13b210d2c49eea983a9f8beeb82b3": {
          "model_module": "@jupyter-widgets/controls",
          "model_name": "HBoxModel",
          "model_module_version": "1.5.0",
          "state": {
            "_dom_classes": [],
            "_model_module": "@jupyter-widgets/controls",
            "_model_module_version": "1.5.0",
            "_model_name": "HBoxModel",
            "_view_count": null,
            "_view_module": "@jupyter-widgets/controls",
            "_view_module_version": "1.5.0",
            "_view_name": "HBoxView",
            "box_style": "",
            "children": [
              "IPY_MODEL_07d08b38cba44b538f0de5a2290d1ca7",
              "IPY_MODEL_442746bcdf664950bc85dfc589181996",
              "IPY_MODEL_69ee4026bb7340fc92c5ab77c33731c0"
            ],
            "layout": "IPY_MODEL_7e9a002ebb9247be9fd95a74ddfe73c2"
          }
        },
        "07d08b38cba44b538f0de5a2290d1ca7": {
          "model_module": "@jupyter-widgets/controls",
          "model_name": "HTMLModel",
          "model_module_version": "1.5.0",
          "state": {
            "_dom_classes": [],
            "_model_module": "@jupyter-widgets/controls",
            "_model_module_version": "1.5.0",
            "_model_name": "HTMLModel",
            "_view_count": null,
            "_view_module": "@jupyter-widgets/controls",
            "_view_module_version": "1.5.0",
            "_view_name": "HTMLView",
            "description": "",
            "description_tooltip": null,
            "layout": "IPY_MODEL_9ed4962104794f91b0d9618f0afc9aa3",
            "placeholder": "​",
            "style": "IPY_MODEL_87a88dadd41a45489ced7c9234e732cc",
            "value": "config.json: 100%"
          }
        },
        "442746bcdf664950bc85dfc589181996": {
          "model_module": "@jupyter-widgets/controls",
          "model_name": "FloatProgressModel",
          "model_module_version": "1.5.0",
          "state": {
            "_dom_classes": [],
            "_model_module": "@jupyter-widgets/controls",
            "_model_module_version": "1.5.0",
            "_model_name": "FloatProgressModel",
            "_view_count": null,
            "_view_module": "@jupyter-widgets/controls",
            "_view_module_version": "1.5.0",
            "_view_name": "ProgressView",
            "bar_style": "success",
            "description": "",
            "description_tooltip": null,
            "layout": "IPY_MODEL_913049775bf34f42a1f443b948881bf0",
            "max": 629,
            "min": 0,
            "orientation": "horizontal",
            "style": "IPY_MODEL_6a28fbac4c6642fda1b989cc1d9e3df1",
            "value": 629
          }
        },
        "69ee4026bb7340fc92c5ab77c33731c0": {
          "model_module": "@jupyter-widgets/controls",
          "model_name": "HTMLModel",
          "model_module_version": "1.5.0",
          "state": {
            "_dom_classes": [],
            "_model_module": "@jupyter-widgets/controls",
            "_model_module_version": "1.5.0",
            "_model_name": "HTMLModel",
            "_view_count": null,
            "_view_module": "@jupyter-widgets/controls",
            "_view_module_version": "1.5.0",
            "_view_name": "HTMLView",
            "description": "",
            "description_tooltip": null,
            "layout": "IPY_MODEL_6e8e2dd965db4758b806d63a8392262c",
            "placeholder": "​",
            "style": "IPY_MODEL_324a94bc60ce4c58a629527d70d46b0f",
            "value": " 629/629 [00:00&lt;00:00, 59.4kB/s]"
          }
        },
        "7e9a002ebb9247be9fd95a74ddfe73c2": {
          "model_module": "@jupyter-widgets/base",
          "model_name": "LayoutModel",
          "model_module_version": "1.2.0",
          "state": {
            "_model_module": "@jupyter-widgets/base",
            "_model_module_version": "1.2.0",
            "_model_name": "LayoutModel",
            "_view_count": null,
            "_view_module": "@jupyter-widgets/base",
            "_view_module_version": "1.2.0",
            "_view_name": "LayoutView",
            "align_content": null,
            "align_items": null,
            "align_self": null,
            "border": null,
            "bottom": null,
            "display": null,
            "flex": null,
            "flex_flow": null,
            "grid_area": null,
            "grid_auto_columns": null,
            "grid_auto_flow": null,
            "grid_auto_rows": null,
            "grid_column": null,
            "grid_gap": null,
            "grid_row": null,
            "grid_template_areas": null,
            "grid_template_columns": null,
            "grid_template_rows": null,
            "height": null,
            "justify_content": null,
            "justify_items": null,
            "left": null,
            "margin": null,
            "max_height": null,
            "max_width": null,
            "min_height": null,
            "min_width": null,
            "object_fit": null,
            "object_position": null,
            "order": null,
            "overflow": null,
            "overflow_x": null,
            "overflow_y": null,
            "padding": null,
            "right": null,
            "top": null,
            "visibility": null,
            "width": null
          }
        },
        "9ed4962104794f91b0d9618f0afc9aa3": {
          "model_module": "@jupyter-widgets/base",
          "model_name": "LayoutModel",
          "model_module_version": "1.2.0",
          "state": {
            "_model_module": "@jupyter-widgets/base",
            "_model_module_version": "1.2.0",
            "_model_name": "LayoutModel",
            "_view_count": null,
            "_view_module": "@jupyter-widgets/base",
            "_view_module_version": "1.2.0",
            "_view_name": "LayoutView",
            "align_content": null,
            "align_items": null,
            "align_self": null,
            "border": null,
            "bottom": null,
            "display": null,
            "flex": null,
            "flex_flow": null,
            "grid_area": null,
            "grid_auto_columns": null,
            "grid_auto_flow": null,
            "grid_auto_rows": null,
            "grid_column": null,
            "grid_gap": null,
            "grid_row": null,
            "grid_template_areas": null,
            "grid_template_columns": null,
            "grid_template_rows": null,
            "height": null,
            "justify_content": null,
            "justify_items": null,
            "left": null,
            "margin": null,
            "max_height": null,
            "max_width": null,
            "min_height": null,
            "min_width": null,
            "object_fit": null,
            "object_position": null,
            "order": null,
            "overflow": null,
            "overflow_x": null,
            "overflow_y": null,
            "padding": null,
            "right": null,
            "top": null,
            "visibility": null,
            "width": null
          }
        },
        "87a88dadd41a45489ced7c9234e732cc": {
          "model_module": "@jupyter-widgets/controls",
          "model_name": "DescriptionStyleModel",
          "model_module_version": "1.5.0",
          "state": {
            "_model_module": "@jupyter-widgets/controls",
            "_model_module_version": "1.5.0",
            "_model_name": "DescriptionStyleModel",
            "_view_count": null,
            "_view_module": "@jupyter-widgets/base",
            "_view_module_version": "1.2.0",
            "_view_name": "StyleView",
            "description_width": ""
          }
        },
        "913049775bf34f42a1f443b948881bf0": {
          "model_module": "@jupyter-widgets/base",
          "model_name": "LayoutModel",
          "model_module_version": "1.2.0",
          "state": {
            "_model_module": "@jupyter-widgets/base",
            "_model_module_version": "1.2.0",
            "_model_name": "LayoutModel",
            "_view_count": null,
            "_view_module": "@jupyter-widgets/base",
            "_view_module_version": "1.2.0",
            "_view_name": "LayoutView",
            "align_content": null,
            "align_items": null,
            "align_self": null,
            "border": null,
            "bottom": null,
            "display": null,
            "flex": null,
            "flex_flow": null,
            "grid_area": null,
            "grid_auto_columns": null,
            "grid_auto_flow": null,
            "grid_auto_rows": null,
            "grid_column": null,
            "grid_gap": null,
            "grid_row": null,
            "grid_template_areas": null,
            "grid_template_columns": null,
            "grid_template_rows": null,
            "height": null,
            "justify_content": null,
            "justify_items": null,
            "left": null,
            "margin": null,
            "max_height": null,
            "max_width": null,
            "min_height": null,
            "min_width": null,
            "object_fit": null,
            "object_position": null,
            "order": null,
            "overflow": null,
            "overflow_x": null,
            "overflow_y": null,
            "padding": null,
            "right": null,
            "top": null,
            "visibility": null,
            "width": null
          }
        },
        "6a28fbac4c6642fda1b989cc1d9e3df1": {
          "model_module": "@jupyter-widgets/controls",
          "model_name": "ProgressStyleModel",
          "model_module_version": "1.5.0",
          "state": {
            "_model_module": "@jupyter-widgets/controls",
            "_model_module_version": "1.5.0",
            "_model_name": "ProgressStyleModel",
            "_view_count": null,
            "_view_module": "@jupyter-widgets/base",
            "_view_module_version": "1.2.0",
            "_view_name": "StyleView",
            "bar_color": null,
            "description_width": ""
          }
        },
        "6e8e2dd965db4758b806d63a8392262c": {
          "model_module": "@jupyter-widgets/base",
          "model_name": "LayoutModel",
          "model_module_version": "1.2.0",
          "state": {
            "_model_module": "@jupyter-widgets/base",
            "_model_module_version": "1.2.0",
            "_model_name": "LayoutModel",
            "_view_count": null,
            "_view_module": "@jupyter-widgets/base",
            "_view_module_version": "1.2.0",
            "_view_name": "LayoutView",
            "align_content": null,
            "align_items": null,
            "align_self": null,
            "border": null,
            "bottom": null,
            "display": null,
            "flex": null,
            "flex_flow": null,
            "grid_area": null,
            "grid_auto_columns": null,
            "grid_auto_flow": null,
            "grid_auto_rows": null,
            "grid_column": null,
            "grid_gap": null,
            "grid_row": null,
            "grid_template_areas": null,
            "grid_template_columns": null,
            "grid_template_rows": null,
            "height": null,
            "justify_content": null,
            "justify_items": null,
            "left": null,
            "margin": null,
            "max_height": null,
            "max_width": null,
            "min_height": null,
            "min_width": null,
            "object_fit": null,
            "object_position": null,
            "order": null,
            "overflow": null,
            "overflow_x": null,
            "overflow_y": null,
            "padding": null,
            "right": null,
            "top": null,
            "visibility": null,
            "width": null
          }
        },
        "324a94bc60ce4c58a629527d70d46b0f": {
          "model_module": "@jupyter-widgets/controls",
          "model_name": "DescriptionStyleModel",
          "model_module_version": "1.5.0",
          "state": {
            "_model_module": "@jupyter-widgets/controls",
            "_model_module_version": "1.5.0",
            "_model_name": "DescriptionStyleModel",
            "_view_count": null,
            "_view_module": "@jupyter-widgets/base",
            "_view_module_version": "1.2.0",
            "_view_name": "StyleView",
            "description_width": ""
          }
        },
        "e02591f8484b4e429e09ae5ca0af9926": {
          "model_module": "@jupyter-widgets/controls",
          "model_name": "HBoxModel",
          "model_module_version": "1.5.0",
          "state": {
            "_dom_classes": [],
            "_model_module": "@jupyter-widgets/controls",
            "_model_module_version": "1.5.0",
            "_model_name": "HBoxModel",
            "_view_count": null,
            "_view_module": "@jupyter-widgets/controls",
            "_view_module_version": "1.5.0",
            "_view_name": "HBoxView",
            "box_style": "",
            "children": [
              "IPY_MODEL_ee22458e46fa4b3ea7937b71d3d4d231",
              "IPY_MODEL_9048cb9b22ed4af1802a5006100d669b",
              "IPY_MODEL_7cf1452c248046a1b888048c6e4c4449"
            ],
            "layout": "IPY_MODEL_520f934313e34e67871e9830f5a77b8e"
          }
        },
        "ee22458e46fa4b3ea7937b71d3d4d231": {
          "model_module": "@jupyter-widgets/controls",
          "model_name": "HTMLModel",
          "model_module_version": "1.5.0",
          "state": {
            "_dom_classes": [],
            "_model_module": "@jupyter-widgets/controls",
            "_model_module_version": "1.5.0",
            "_model_name": "HTMLModel",
            "_view_count": null,
            "_view_module": "@jupyter-widgets/controls",
            "_view_module_version": "1.5.0",
            "_view_name": "HTMLView",
            "description": "",
            "description_tooltip": null,
            "layout": "IPY_MODEL_33789985cef049ad890a919a83773957",
            "placeholder": "​",
            "style": "IPY_MODEL_e0a20e8a672a42c395a87550bbc7d11d",
            "value": "model.safetensors: 100%"
          }
        },
        "9048cb9b22ed4af1802a5006100d669b": {
          "model_module": "@jupyter-widgets/controls",
          "model_name": "FloatProgressModel",
          "model_module_version": "1.5.0",
          "state": {
            "_dom_classes": [],
            "_model_module": "@jupyter-widgets/controls",
            "_model_module_version": "1.5.0",
            "_model_name": "FloatProgressModel",
            "_view_count": null,
            "_view_module": "@jupyter-widgets/controls",
            "_view_module_version": "1.5.0",
            "_view_name": "ProgressView",
            "bar_style": "success",
            "description": "",
            "description_tooltip": null,
            "layout": "IPY_MODEL_59af66033e114e4a9bd31783f10561cd",
            "max": 267832558,
            "min": 0,
            "orientation": "horizontal",
            "style": "IPY_MODEL_3d12dfd85861404d996861149afc9271",
            "value": 267832558
          }
        },
        "7cf1452c248046a1b888048c6e4c4449": {
          "model_module": "@jupyter-widgets/controls",
          "model_name": "HTMLModel",
          "model_module_version": "1.5.0",
          "state": {
            "_dom_classes": [],
            "_model_module": "@jupyter-widgets/controls",
            "_model_module_version": "1.5.0",
            "_model_name": "HTMLModel",
            "_view_count": null,
            "_view_module": "@jupyter-widgets/controls",
            "_view_module_version": "1.5.0",
            "_view_name": "HTMLView",
            "description": "",
            "description_tooltip": null,
            "layout": "IPY_MODEL_87f0c450211c48deae5b63c0ff542f40",
            "placeholder": "​",
            "style": "IPY_MODEL_1f025d769ae7446ea00532a74ffe043c",
            "value": " 268M/268M [00:04&lt;00:00, 47.3MB/s]"
          }
        },
        "520f934313e34e67871e9830f5a77b8e": {
          "model_module": "@jupyter-widgets/base",
          "model_name": "LayoutModel",
          "model_module_version": "1.2.0",
          "state": {
            "_model_module": "@jupyter-widgets/base",
            "_model_module_version": "1.2.0",
            "_model_name": "LayoutModel",
            "_view_count": null,
            "_view_module": "@jupyter-widgets/base",
            "_view_module_version": "1.2.0",
            "_view_name": "LayoutView",
            "align_content": null,
            "align_items": null,
            "align_self": null,
            "border": null,
            "bottom": null,
            "display": null,
            "flex": null,
            "flex_flow": null,
            "grid_area": null,
            "grid_auto_columns": null,
            "grid_auto_flow": null,
            "grid_auto_rows": null,
            "grid_column": null,
            "grid_gap": null,
            "grid_row": null,
            "grid_template_areas": null,
            "grid_template_columns": null,
            "grid_template_rows": null,
            "height": null,
            "justify_content": null,
            "justify_items": null,
            "left": null,
            "margin": null,
            "max_height": null,
            "max_width": null,
            "min_height": null,
            "min_width": null,
            "object_fit": null,
            "object_position": null,
            "order": null,
            "overflow": null,
            "overflow_x": null,
            "overflow_y": null,
            "padding": null,
            "right": null,
            "top": null,
            "visibility": null,
            "width": null
          }
        },
        "33789985cef049ad890a919a83773957": {
          "model_module": "@jupyter-widgets/base",
          "model_name": "LayoutModel",
          "model_module_version": "1.2.0",
          "state": {
            "_model_module": "@jupyter-widgets/base",
            "_model_module_version": "1.2.0",
            "_model_name": "LayoutModel",
            "_view_count": null,
            "_view_module": "@jupyter-widgets/base",
            "_view_module_version": "1.2.0",
            "_view_name": "LayoutView",
            "align_content": null,
            "align_items": null,
            "align_self": null,
            "border": null,
            "bottom": null,
            "display": null,
            "flex": null,
            "flex_flow": null,
            "grid_area": null,
            "grid_auto_columns": null,
            "grid_auto_flow": null,
            "grid_auto_rows": null,
            "grid_column": null,
            "grid_gap": null,
            "grid_row": null,
            "grid_template_areas": null,
            "grid_template_columns": null,
            "grid_template_rows": null,
            "height": null,
            "justify_content": null,
            "justify_items": null,
            "left": null,
            "margin": null,
            "max_height": null,
            "max_width": null,
            "min_height": null,
            "min_width": null,
            "object_fit": null,
            "object_position": null,
            "order": null,
            "overflow": null,
            "overflow_x": null,
            "overflow_y": null,
            "padding": null,
            "right": null,
            "top": null,
            "visibility": null,
            "width": null
          }
        },
        "e0a20e8a672a42c395a87550bbc7d11d": {
          "model_module": "@jupyter-widgets/controls",
          "model_name": "DescriptionStyleModel",
          "model_module_version": "1.5.0",
          "state": {
            "_model_module": "@jupyter-widgets/controls",
            "_model_module_version": "1.5.0",
            "_model_name": "DescriptionStyleModel",
            "_view_count": null,
            "_view_module": "@jupyter-widgets/base",
            "_view_module_version": "1.2.0",
            "_view_name": "StyleView",
            "description_width": ""
          }
        },
        "59af66033e114e4a9bd31783f10561cd": {
          "model_module": "@jupyter-widgets/base",
          "model_name": "LayoutModel",
          "model_module_version": "1.2.0",
          "state": {
            "_model_module": "@jupyter-widgets/base",
            "_model_module_version": "1.2.0",
            "_model_name": "LayoutModel",
            "_view_count": null,
            "_view_module": "@jupyter-widgets/base",
            "_view_module_version": "1.2.0",
            "_view_name": "LayoutView",
            "align_content": null,
            "align_items": null,
            "align_self": null,
            "border": null,
            "bottom": null,
            "display": null,
            "flex": null,
            "flex_flow": null,
            "grid_area": null,
            "grid_auto_columns": null,
            "grid_auto_flow": null,
            "grid_auto_rows": null,
            "grid_column": null,
            "grid_gap": null,
            "grid_row": null,
            "grid_template_areas": null,
            "grid_template_columns": null,
            "grid_template_rows": null,
            "height": null,
            "justify_content": null,
            "justify_items": null,
            "left": null,
            "margin": null,
            "max_height": null,
            "max_width": null,
            "min_height": null,
            "min_width": null,
            "object_fit": null,
            "object_position": null,
            "order": null,
            "overflow": null,
            "overflow_x": null,
            "overflow_y": null,
            "padding": null,
            "right": null,
            "top": null,
            "visibility": null,
            "width": null
          }
        },
        "3d12dfd85861404d996861149afc9271": {
          "model_module": "@jupyter-widgets/controls",
          "model_name": "ProgressStyleModel",
          "model_module_version": "1.5.0",
          "state": {
            "_model_module": "@jupyter-widgets/controls",
            "_model_module_version": "1.5.0",
            "_model_name": "ProgressStyleModel",
            "_view_count": null,
            "_view_module": "@jupyter-widgets/base",
            "_view_module_version": "1.2.0",
            "_view_name": "StyleView",
            "bar_color": null,
            "description_width": ""
          }
        },
        "87f0c450211c48deae5b63c0ff542f40": {
          "model_module": "@jupyter-widgets/base",
          "model_name": "LayoutModel",
          "model_module_version": "1.2.0",
          "state": {
            "_model_module": "@jupyter-widgets/base",
            "_model_module_version": "1.2.0",
            "_model_name": "LayoutModel",
            "_view_count": null,
            "_view_module": "@jupyter-widgets/base",
            "_view_module_version": "1.2.0",
            "_view_name": "LayoutView",
            "align_content": null,
            "align_items": null,
            "align_self": null,
            "border": null,
            "bottom": null,
            "display": null,
            "flex": null,
            "flex_flow": null,
            "grid_area": null,
            "grid_auto_columns": null,
            "grid_auto_flow": null,
            "grid_auto_rows": null,
            "grid_column": null,
            "grid_gap": null,
            "grid_row": null,
            "grid_template_areas": null,
            "grid_template_columns": null,
            "grid_template_rows": null,
            "height": null,
            "justify_content": null,
            "justify_items": null,
            "left": null,
            "margin": null,
            "max_height": null,
            "max_width": null,
            "min_height": null,
            "min_width": null,
            "object_fit": null,
            "object_position": null,
            "order": null,
            "overflow": null,
            "overflow_x": null,
            "overflow_y": null,
            "padding": null,
            "right": null,
            "top": null,
            "visibility": null,
            "width": null
          }
        },
        "1f025d769ae7446ea00532a74ffe043c": {
          "model_module": "@jupyter-widgets/controls",
          "model_name": "DescriptionStyleModel",
          "model_module_version": "1.5.0",
          "state": {
            "_model_module": "@jupyter-widgets/controls",
            "_model_module_version": "1.5.0",
            "_model_name": "DescriptionStyleModel",
            "_view_count": null,
            "_view_module": "@jupyter-widgets/base",
            "_view_module_version": "1.2.0",
            "_view_name": "StyleView",
            "description_width": ""
          }
        },
        "b948af736be64f179c0e17e05addcb88": {
          "model_module": "@jupyter-widgets/controls",
          "model_name": "HBoxModel",
          "model_module_version": "1.5.0",
          "state": {
            "_dom_classes": [],
            "_model_module": "@jupyter-widgets/controls",
            "_model_module_version": "1.5.0",
            "_model_name": "HBoxModel",
            "_view_count": null,
            "_view_module": "@jupyter-widgets/controls",
            "_view_module_version": "1.5.0",
            "_view_name": "HBoxView",
            "box_style": "",
            "children": [
              "IPY_MODEL_107e805f0e5e41f9b4b96576245da614",
              "IPY_MODEL_a201b1c24dc74b4aa9e9077f126f623b",
              "IPY_MODEL_7199919172014977b7e2e744e363c130"
            ],
            "layout": "IPY_MODEL_f13ba8ac38ea4e1a965080f5e661bc56"
          }
        },
        "107e805f0e5e41f9b4b96576245da614": {
          "model_module": "@jupyter-widgets/controls",
          "model_name": "HTMLModel",
          "model_module_version": "1.5.0",
          "state": {
            "_dom_classes": [],
            "_model_module": "@jupyter-widgets/controls",
            "_model_module_version": "1.5.0",
            "_model_name": "HTMLModel",
            "_view_count": null,
            "_view_module": "@jupyter-widgets/controls",
            "_view_module_version": "1.5.0",
            "_view_name": "HTMLView",
            "description": "",
            "description_tooltip": null,
            "layout": "IPY_MODEL_8696227daa854737b4a59a592eb93cd8",
            "placeholder": "​",
            "style": "IPY_MODEL_e8385a0cc6ad4f7491a8853d92e538d5",
            "value": "tokenizer_config.json: 100%"
          }
        },
        "a201b1c24dc74b4aa9e9077f126f623b": {
          "model_module": "@jupyter-widgets/controls",
          "model_name": "FloatProgressModel",
          "model_module_version": "1.5.0",
          "state": {
            "_dom_classes": [],
            "_model_module": "@jupyter-widgets/controls",
            "_model_module_version": "1.5.0",
            "_model_name": "FloatProgressModel",
            "_view_count": null,
            "_view_module": "@jupyter-widgets/controls",
            "_view_module_version": "1.5.0",
            "_view_name": "ProgressView",
            "bar_style": "success",
            "description": "",
            "description_tooltip": null,
            "layout": "IPY_MODEL_9ed829be075145adb147fdd071926489",
            "max": 48,
            "min": 0,
            "orientation": "horizontal",
            "style": "IPY_MODEL_cbe6caa686694845be3dc37e1a43e12f",
            "value": 48
          }
        },
        "7199919172014977b7e2e744e363c130": {
          "model_module": "@jupyter-widgets/controls",
          "model_name": "HTMLModel",
          "model_module_version": "1.5.0",
          "state": {
            "_dom_classes": [],
            "_model_module": "@jupyter-widgets/controls",
            "_model_module_version": "1.5.0",
            "_model_name": "HTMLModel",
            "_view_count": null,
            "_view_module": "@jupyter-widgets/controls",
            "_view_module_version": "1.5.0",
            "_view_name": "HTMLView",
            "description": "",
            "description_tooltip": null,
            "layout": "IPY_MODEL_663b9a7c6f1b41c589fa7ddd696c79b6",
            "placeholder": "​",
            "style": "IPY_MODEL_b74f0f25910d474ab8531e33a8899d26",
            "value": " 48.0/48.0 [00:00&lt;00:00, 4.60kB/s]"
          }
        },
        "f13ba8ac38ea4e1a965080f5e661bc56": {
          "model_module": "@jupyter-widgets/base",
          "model_name": "LayoutModel",
          "model_module_version": "1.2.0",
          "state": {
            "_model_module": "@jupyter-widgets/base",
            "_model_module_version": "1.2.0",
            "_model_name": "LayoutModel",
            "_view_count": null,
            "_view_module": "@jupyter-widgets/base",
            "_view_module_version": "1.2.0",
            "_view_name": "LayoutView",
            "align_content": null,
            "align_items": null,
            "align_self": null,
            "border": null,
            "bottom": null,
            "display": null,
            "flex": null,
            "flex_flow": null,
            "grid_area": null,
            "grid_auto_columns": null,
            "grid_auto_flow": null,
            "grid_auto_rows": null,
            "grid_column": null,
            "grid_gap": null,
            "grid_row": null,
            "grid_template_areas": null,
            "grid_template_columns": null,
            "grid_template_rows": null,
            "height": null,
            "justify_content": null,
            "justify_items": null,
            "left": null,
            "margin": null,
            "max_height": null,
            "max_width": null,
            "min_height": null,
            "min_width": null,
            "object_fit": null,
            "object_position": null,
            "order": null,
            "overflow": null,
            "overflow_x": null,
            "overflow_y": null,
            "padding": null,
            "right": null,
            "top": null,
            "visibility": null,
            "width": null
          }
        },
        "8696227daa854737b4a59a592eb93cd8": {
          "model_module": "@jupyter-widgets/base",
          "model_name": "LayoutModel",
          "model_module_version": "1.2.0",
          "state": {
            "_model_module": "@jupyter-widgets/base",
            "_model_module_version": "1.2.0",
            "_model_name": "LayoutModel",
            "_view_count": null,
            "_view_module": "@jupyter-widgets/base",
            "_view_module_version": "1.2.0",
            "_view_name": "LayoutView",
            "align_content": null,
            "align_items": null,
            "align_self": null,
            "border": null,
            "bottom": null,
            "display": null,
            "flex": null,
            "flex_flow": null,
            "grid_area": null,
            "grid_auto_columns": null,
            "grid_auto_flow": null,
            "grid_auto_rows": null,
            "grid_column": null,
            "grid_gap": null,
            "grid_row": null,
            "grid_template_areas": null,
            "grid_template_columns": null,
            "grid_template_rows": null,
            "height": null,
            "justify_content": null,
            "justify_items": null,
            "left": null,
            "margin": null,
            "max_height": null,
            "max_width": null,
            "min_height": null,
            "min_width": null,
            "object_fit": null,
            "object_position": null,
            "order": null,
            "overflow": null,
            "overflow_x": null,
            "overflow_y": null,
            "padding": null,
            "right": null,
            "top": null,
            "visibility": null,
            "width": null
          }
        },
        "e8385a0cc6ad4f7491a8853d92e538d5": {
          "model_module": "@jupyter-widgets/controls",
          "model_name": "DescriptionStyleModel",
          "model_module_version": "1.5.0",
          "state": {
            "_model_module": "@jupyter-widgets/controls",
            "_model_module_version": "1.5.0",
            "_model_name": "DescriptionStyleModel",
            "_view_count": null,
            "_view_module": "@jupyter-widgets/base",
            "_view_module_version": "1.2.0",
            "_view_name": "StyleView",
            "description_width": ""
          }
        },
        "9ed829be075145adb147fdd071926489": {
          "model_module": "@jupyter-widgets/base",
          "model_name": "LayoutModel",
          "model_module_version": "1.2.0",
          "state": {
            "_model_module": "@jupyter-widgets/base",
            "_model_module_version": "1.2.0",
            "_model_name": "LayoutModel",
            "_view_count": null,
            "_view_module": "@jupyter-widgets/base",
            "_view_module_version": "1.2.0",
            "_view_name": "LayoutView",
            "align_content": null,
            "align_items": null,
            "align_self": null,
            "border": null,
            "bottom": null,
            "display": null,
            "flex": null,
            "flex_flow": null,
            "grid_area": null,
            "grid_auto_columns": null,
            "grid_auto_flow": null,
            "grid_auto_rows": null,
            "grid_column": null,
            "grid_gap": null,
            "grid_row": null,
            "grid_template_areas": null,
            "grid_template_columns": null,
            "grid_template_rows": null,
            "height": null,
            "justify_content": null,
            "justify_items": null,
            "left": null,
            "margin": null,
            "max_height": null,
            "max_width": null,
            "min_height": null,
            "min_width": null,
            "object_fit": null,
            "object_position": null,
            "order": null,
            "overflow": null,
            "overflow_x": null,
            "overflow_y": null,
            "padding": null,
            "right": null,
            "top": null,
            "visibility": null,
            "width": null
          }
        },
        "cbe6caa686694845be3dc37e1a43e12f": {
          "model_module": "@jupyter-widgets/controls",
          "model_name": "ProgressStyleModel",
          "model_module_version": "1.5.0",
          "state": {
            "_model_module": "@jupyter-widgets/controls",
            "_model_module_version": "1.5.0",
            "_model_name": "ProgressStyleModel",
            "_view_count": null,
            "_view_module": "@jupyter-widgets/base",
            "_view_module_version": "1.2.0",
            "_view_name": "StyleView",
            "bar_color": null,
            "description_width": ""
          }
        },
        "663b9a7c6f1b41c589fa7ddd696c79b6": {
          "model_module": "@jupyter-widgets/base",
          "model_name": "LayoutModel",
          "model_module_version": "1.2.0",
          "state": {
            "_model_module": "@jupyter-widgets/base",
            "_model_module_version": "1.2.0",
            "_model_name": "LayoutModel",
            "_view_count": null,
            "_view_module": "@jupyter-widgets/base",
            "_view_module_version": "1.2.0",
            "_view_name": "LayoutView",
            "align_content": null,
            "align_items": null,
            "align_self": null,
            "border": null,
            "bottom": null,
            "display": null,
            "flex": null,
            "flex_flow": null,
            "grid_area": null,
            "grid_auto_columns": null,
            "grid_auto_flow": null,
            "grid_auto_rows": null,
            "grid_column": null,
            "grid_gap": null,
            "grid_row": null,
            "grid_template_areas": null,
            "grid_template_columns": null,
            "grid_template_rows": null,
            "height": null,
            "justify_content": null,
            "justify_items": null,
            "left": null,
            "margin": null,
            "max_height": null,
            "max_width": null,
            "min_height": null,
            "min_width": null,
            "object_fit": null,
            "object_position": null,
            "order": null,
            "overflow": null,
            "overflow_x": null,
            "overflow_y": null,
            "padding": null,
            "right": null,
            "top": null,
            "visibility": null,
            "width": null
          }
        },
        "b74f0f25910d474ab8531e33a8899d26": {
          "model_module": "@jupyter-widgets/controls",
          "model_name": "DescriptionStyleModel",
          "model_module_version": "1.5.0",
          "state": {
            "_model_module": "@jupyter-widgets/controls",
            "_model_module_version": "1.5.0",
            "_model_name": "DescriptionStyleModel",
            "_view_count": null,
            "_view_module": "@jupyter-widgets/base",
            "_view_module_version": "1.2.0",
            "_view_name": "StyleView",
            "description_width": ""
          }
        },
        "4aec9a8cca5245cfb884d812efe893d0": {
          "model_module": "@jupyter-widgets/controls",
          "model_name": "HBoxModel",
          "model_module_version": "1.5.0",
          "state": {
            "_dom_classes": [],
            "_model_module": "@jupyter-widgets/controls",
            "_model_module_version": "1.5.0",
            "_model_name": "HBoxModel",
            "_view_count": null,
            "_view_module": "@jupyter-widgets/controls",
            "_view_module_version": "1.5.0",
            "_view_name": "HBoxView",
            "box_style": "",
            "children": [
              "IPY_MODEL_e9aede61146b47ff9b7fb0de46e514e4",
              "IPY_MODEL_b3d1bf9dfa1944108575a9875628e401",
              "IPY_MODEL_b6fa2aa0b33a451b8bc174df6687bf29"
            ],
            "layout": "IPY_MODEL_28326e253aa740e3b34bd908e9f89a58"
          }
        },
        "e9aede61146b47ff9b7fb0de46e514e4": {
          "model_module": "@jupyter-widgets/controls",
          "model_name": "HTMLModel",
          "model_module_version": "1.5.0",
          "state": {
            "_dom_classes": [],
            "_model_module": "@jupyter-widgets/controls",
            "_model_module_version": "1.5.0",
            "_model_name": "HTMLModel",
            "_view_count": null,
            "_view_module": "@jupyter-widgets/controls",
            "_view_module_version": "1.5.0",
            "_view_name": "HTMLView",
            "description": "",
            "description_tooltip": null,
            "layout": "IPY_MODEL_b3054dbcec52423d961be0a3d2e44a5b",
            "placeholder": "​",
            "style": "IPY_MODEL_a7f9897808d34d62a67af91f3bdbd573",
            "value": "vocab.txt: "
          }
        },
        "b3d1bf9dfa1944108575a9875628e401": {
          "model_module": "@jupyter-widgets/controls",
          "model_name": "FloatProgressModel",
          "model_module_version": "1.5.0",
          "state": {
            "_dom_classes": [],
            "_model_module": "@jupyter-widgets/controls",
            "_model_module_version": "1.5.0",
            "_model_name": "FloatProgressModel",
            "_view_count": null,
            "_view_module": "@jupyter-widgets/controls",
            "_view_module_version": "1.5.0",
            "_view_name": "ProgressView",
            "bar_style": "success",
            "description": "",
            "description_tooltip": null,
            "layout": "IPY_MODEL_fd966332aa664a7687cb568304ab1bcc",
            "max": 1,
            "min": 0,
            "orientation": "horizontal",
            "style": "IPY_MODEL_6670893100c04397857e011c6a04c93c",
            "value": 1
          }
        },
        "b6fa2aa0b33a451b8bc174df6687bf29": {
          "model_module": "@jupyter-widgets/controls",
          "model_name": "HTMLModel",
          "model_module_version": "1.5.0",
          "state": {
            "_dom_classes": [],
            "_model_module": "@jupyter-widgets/controls",
            "_model_module_version": "1.5.0",
            "_model_name": "HTMLModel",
            "_view_count": null,
            "_view_module": "@jupyter-widgets/controls",
            "_view_module_version": "1.5.0",
            "_view_name": "HTMLView",
            "description": "",
            "description_tooltip": null,
            "layout": "IPY_MODEL_449c26bf46d64af7b3354ce9695a8f04",
            "placeholder": "​",
            "style": "IPY_MODEL_44a10c8974554e35b48f163af5d097a7",
            "value": " 232k/? [00:00&lt;00:00, 8.03MB/s]"
          }
        },
        "28326e253aa740e3b34bd908e9f89a58": {
          "model_module": "@jupyter-widgets/base",
          "model_name": "LayoutModel",
          "model_module_version": "1.2.0",
          "state": {
            "_model_module": "@jupyter-widgets/base",
            "_model_module_version": "1.2.0",
            "_model_name": "LayoutModel",
            "_view_count": null,
            "_view_module": "@jupyter-widgets/base",
            "_view_module_version": "1.2.0",
            "_view_name": "LayoutView",
            "align_content": null,
            "align_items": null,
            "align_self": null,
            "border": null,
            "bottom": null,
            "display": null,
            "flex": null,
            "flex_flow": null,
            "grid_area": null,
            "grid_auto_columns": null,
            "grid_auto_flow": null,
            "grid_auto_rows": null,
            "grid_column": null,
            "grid_gap": null,
            "grid_row": null,
            "grid_template_areas": null,
            "grid_template_columns": null,
            "grid_template_rows": null,
            "height": null,
            "justify_content": null,
            "justify_items": null,
            "left": null,
            "margin": null,
            "max_height": null,
            "max_width": null,
            "min_height": null,
            "min_width": null,
            "object_fit": null,
            "object_position": null,
            "order": null,
            "overflow": null,
            "overflow_x": null,
            "overflow_y": null,
            "padding": null,
            "right": null,
            "top": null,
            "visibility": null,
            "width": null
          }
        },
        "b3054dbcec52423d961be0a3d2e44a5b": {
          "model_module": "@jupyter-widgets/base",
          "model_name": "LayoutModel",
          "model_module_version": "1.2.0",
          "state": {
            "_model_module": "@jupyter-widgets/base",
            "_model_module_version": "1.2.0",
            "_model_name": "LayoutModel",
            "_view_count": null,
            "_view_module": "@jupyter-widgets/base",
            "_view_module_version": "1.2.0",
            "_view_name": "LayoutView",
            "align_content": null,
            "align_items": null,
            "align_self": null,
            "border": null,
            "bottom": null,
            "display": null,
            "flex": null,
            "flex_flow": null,
            "grid_area": null,
            "grid_auto_columns": null,
            "grid_auto_flow": null,
            "grid_auto_rows": null,
            "grid_column": null,
            "grid_gap": null,
            "grid_row": null,
            "grid_template_areas": null,
            "grid_template_columns": null,
            "grid_template_rows": null,
            "height": null,
            "justify_content": null,
            "justify_items": null,
            "left": null,
            "margin": null,
            "max_height": null,
            "max_width": null,
            "min_height": null,
            "min_width": null,
            "object_fit": null,
            "object_position": null,
            "order": null,
            "overflow": null,
            "overflow_x": null,
            "overflow_y": null,
            "padding": null,
            "right": null,
            "top": null,
            "visibility": null,
            "width": null
          }
        },
        "a7f9897808d34d62a67af91f3bdbd573": {
          "model_module": "@jupyter-widgets/controls",
          "model_name": "DescriptionStyleModel",
          "model_module_version": "1.5.0",
          "state": {
            "_model_module": "@jupyter-widgets/controls",
            "_model_module_version": "1.5.0",
            "_model_name": "DescriptionStyleModel",
            "_view_count": null,
            "_view_module": "@jupyter-widgets/base",
            "_view_module_version": "1.2.0",
            "_view_name": "StyleView",
            "description_width": ""
          }
        },
        "fd966332aa664a7687cb568304ab1bcc": {
          "model_module": "@jupyter-widgets/base",
          "model_name": "LayoutModel",
          "model_module_version": "1.2.0",
          "state": {
            "_model_module": "@jupyter-widgets/base",
            "_model_module_version": "1.2.0",
            "_model_name": "LayoutModel",
            "_view_count": null,
            "_view_module": "@jupyter-widgets/base",
            "_view_module_version": "1.2.0",
            "_view_name": "LayoutView",
            "align_content": null,
            "align_items": null,
            "align_self": null,
            "border": null,
            "bottom": null,
            "display": null,
            "flex": null,
            "flex_flow": null,
            "grid_area": null,
            "grid_auto_columns": null,
            "grid_auto_flow": null,
            "grid_auto_rows": null,
            "grid_column": null,
            "grid_gap": null,
            "grid_row": null,
            "grid_template_areas": null,
            "grid_template_columns": null,
            "grid_template_rows": null,
            "height": null,
            "justify_content": null,
            "justify_items": null,
            "left": null,
            "margin": null,
            "max_height": null,
            "max_width": null,
            "min_height": null,
            "min_width": null,
            "object_fit": null,
            "object_position": null,
            "order": null,
            "overflow": null,
            "overflow_x": null,
            "overflow_y": null,
            "padding": null,
            "right": null,
            "top": null,
            "visibility": null,
            "width": "20px"
          }
        },
        "6670893100c04397857e011c6a04c93c": {
          "model_module": "@jupyter-widgets/controls",
          "model_name": "ProgressStyleModel",
          "model_module_version": "1.5.0",
          "state": {
            "_model_module": "@jupyter-widgets/controls",
            "_model_module_version": "1.5.0",
            "_model_name": "ProgressStyleModel",
            "_view_count": null,
            "_view_module": "@jupyter-widgets/base",
            "_view_module_version": "1.2.0",
            "_view_name": "StyleView",
            "bar_color": null,
            "description_width": ""
          }
        },
        "449c26bf46d64af7b3354ce9695a8f04": {
          "model_module": "@jupyter-widgets/base",
          "model_name": "LayoutModel",
          "model_module_version": "1.2.0",
          "state": {
            "_model_module": "@jupyter-widgets/base",
            "_model_module_version": "1.2.0",
            "_model_name": "LayoutModel",
            "_view_count": null,
            "_view_module": "@jupyter-widgets/base",
            "_view_module_version": "1.2.0",
            "_view_name": "LayoutView",
            "align_content": null,
            "align_items": null,
            "align_self": null,
            "border": null,
            "bottom": null,
            "display": null,
            "flex": null,
            "flex_flow": null,
            "grid_area": null,
            "grid_auto_columns": null,
            "grid_auto_flow": null,
            "grid_auto_rows": null,
            "grid_column": null,
            "grid_gap": null,
            "grid_row": null,
            "grid_template_areas": null,
            "grid_template_columns": null,
            "grid_template_rows": null,
            "height": null,
            "justify_content": null,
            "justify_items": null,
            "left": null,
            "margin": null,
            "max_height": null,
            "max_width": null,
            "min_height": null,
            "min_width": null,
            "object_fit": null,
            "object_position": null,
            "order": null,
            "overflow": null,
            "overflow_x": null,
            "overflow_y": null,
            "padding": null,
            "right": null,
            "top": null,
            "visibility": null,
            "width": null
          }
        },
        "44a10c8974554e35b48f163af5d097a7": {
          "model_module": "@jupyter-widgets/controls",
          "model_name": "DescriptionStyleModel",
          "model_module_version": "1.5.0",
          "state": {
            "_model_module": "@jupyter-widgets/controls",
            "_model_module_version": "1.5.0",
            "_model_name": "DescriptionStyleModel",
            "_view_count": null,
            "_view_module": "@jupyter-widgets/base",
            "_view_module_version": "1.2.0",
            "_view_name": "StyleView",
            "description_width": ""
          }
        },
        "38d0bb3b586244b79963ec1b1ee15a8e": {
          "model_module": "@jupyter-widgets/controls",
          "model_name": "HBoxModel",
          "model_module_version": "1.5.0",
          "state": {
            "_dom_classes": [],
            "_model_module": "@jupyter-widgets/controls",
            "_model_module_version": "1.5.0",
            "_model_name": "HBoxModel",
            "_view_count": null,
            "_view_module": "@jupyter-widgets/controls",
            "_view_module_version": "1.5.0",
            "_view_name": "HBoxView",
            "box_style": "",
            "children": [
              "IPY_MODEL_c81a49aca2ba4ad181bd05ea7f17877d",
              "IPY_MODEL_ae39fdfe5a9d4d75a5455fe3c0dc7c0a",
              "IPY_MODEL_9a9d15295753474689f62436e8b2df6b"
            ],
            "layout": "IPY_MODEL_6a270e87ba3545b2a791260ea431d521"
          }
        },
        "c81a49aca2ba4ad181bd05ea7f17877d": {
          "model_module": "@jupyter-widgets/controls",
          "model_name": "HTMLModel",
          "model_module_version": "1.5.0",
          "state": {
            "_dom_classes": [],
            "_model_module": "@jupyter-widgets/controls",
            "_model_module_version": "1.5.0",
            "_model_name": "HTMLModel",
            "_view_count": null,
            "_view_module": "@jupyter-widgets/controls",
            "_view_module_version": "1.5.0",
            "_view_name": "HTMLView",
            "description": "",
            "description_tooltip": null,
            "layout": "IPY_MODEL_2fb55a1f14454ce39f3b038778b1f30a",
            "placeholder": "​",
            "style": "IPY_MODEL_15ba7ee423c64c4d8767330ffe6c0b5e",
            "value": "config.json: 100%"
          }
        },
        "ae39fdfe5a9d4d75a5455fe3c0dc7c0a": {
          "model_module": "@jupyter-widgets/controls",
          "model_name": "FloatProgressModel",
          "model_module_version": "1.5.0",
          "state": {
            "_dom_classes": [],
            "_model_module": "@jupyter-widgets/controls",
            "_model_module_version": "1.5.0",
            "_model_name": "FloatProgressModel",
            "_view_count": null,
            "_view_module": "@jupyter-widgets/controls",
            "_view_module_version": "1.5.0",
            "_view_name": "ProgressView",
            "bar_style": "success",
            "description": "",
            "description_tooltip": null,
            "layout": "IPY_MODEL_c142309cab0d416d86f85f40f233b10f",
            "max": 768,
            "min": 0,
            "orientation": "horizontal",
            "style": "IPY_MODEL_48b017a47dde4b7ca06b3c50a379b14e",
            "value": 768
          }
        },
        "9a9d15295753474689f62436e8b2df6b": {
          "model_module": "@jupyter-widgets/controls",
          "model_name": "HTMLModel",
          "model_module_version": "1.5.0",
          "state": {
            "_dom_classes": [],
            "_model_module": "@jupyter-widgets/controls",
            "_model_module_version": "1.5.0",
            "_model_name": "HTMLModel",
            "_view_count": null,
            "_view_module": "@jupyter-widgets/controls",
            "_view_module_version": "1.5.0",
            "_view_name": "HTMLView",
            "description": "",
            "description_tooltip": null,
            "layout": "IPY_MODEL_ee277a1d3cb5457bae871748e6acee0d",
            "placeholder": "​",
            "style": "IPY_MODEL_8fdb9268fbaa45499581f5ec06f9a9db",
            "value": " 768/768 [00:00&lt;00:00, 66.6kB/s]"
          }
        },
        "6a270e87ba3545b2a791260ea431d521": {
          "model_module": "@jupyter-widgets/base",
          "model_name": "LayoutModel",
          "model_module_version": "1.2.0",
          "state": {
            "_model_module": "@jupyter-widgets/base",
            "_model_module_version": "1.2.0",
            "_model_name": "LayoutModel",
            "_view_count": null,
            "_view_module": "@jupyter-widgets/base",
            "_view_module_version": "1.2.0",
            "_view_name": "LayoutView",
            "align_content": null,
            "align_items": null,
            "align_self": null,
            "border": null,
            "bottom": null,
            "display": null,
            "flex": null,
            "flex_flow": null,
            "grid_area": null,
            "grid_auto_columns": null,
            "grid_auto_flow": null,
            "grid_auto_rows": null,
            "grid_column": null,
            "grid_gap": null,
            "grid_row": null,
            "grid_template_areas": null,
            "grid_template_columns": null,
            "grid_template_rows": null,
            "height": null,
            "justify_content": null,
            "justify_items": null,
            "left": null,
            "margin": null,
            "max_height": null,
            "max_width": null,
            "min_height": null,
            "min_width": null,
            "object_fit": null,
            "object_position": null,
            "order": null,
            "overflow": null,
            "overflow_x": null,
            "overflow_y": null,
            "padding": null,
            "right": null,
            "top": null,
            "visibility": null,
            "width": null
          }
        },
        "2fb55a1f14454ce39f3b038778b1f30a": {
          "model_module": "@jupyter-widgets/base",
          "model_name": "LayoutModel",
          "model_module_version": "1.2.0",
          "state": {
            "_model_module": "@jupyter-widgets/base",
            "_model_module_version": "1.2.0",
            "_model_name": "LayoutModel",
            "_view_count": null,
            "_view_module": "@jupyter-widgets/base",
            "_view_module_version": "1.2.0",
            "_view_name": "LayoutView",
            "align_content": null,
            "align_items": null,
            "align_self": null,
            "border": null,
            "bottom": null,
            "display": null,
            "flex": null,
            "flex_flow": null,
            "grid_area": null,
            "grid_auto_columns": null,
            "grid_auto_flow": null,
            "grid_auto_rows": null,
            "grid_column": null,
            "grid_gap": null,
            "grid_row": null,
            "grid_template_areas": null,
            "grid_template_columns": null,
            "grid_template_rows": null,
            "height": null,
            "justify_content": null,
            "justify_items": null,
            "left": null,
            "margin": null,
            "max_height": null,
            "max_width": null,
            "min_height": null,
            "min_width": null,
            "object_fit": null,
            "object_position": null,
            "order": null,
            "overflow": null,
            "overflow_x": null,
            "overflow_y": null,
            "padding": null,
            "right": null,
            "top": null,
            "visibility": null,
            "width": null
          }
        },
        "15ba7ee423c64c4d8767330ffe6c0b5e": {
          "model_module": "@jupyter-widgets/controls",
          "model_name": "DescriptionStyleModel",
          "model_module_version": "1.5.0",
          "state": {
            "_model_module": "@jupyter-widgets/controls",
            "_model_module_version": "1.5.0",
            "_model_name": "DescriptionStyleModel",
            "_view_count": null,
            "_view_module": "@jupyter-widgets/base",
            "_view_module_version": "1.2.0",
            "_view_name": "StyleView",
            "description_width": ""
          }
        },
        "c142309cab0d416d86f85f40f233b10f": {
          "model_module": "@jupyter-widgets/base",
          "model_name": "LayoutModel",
          "model_module_version": "1.2.0",
          "state": {
            "_model_module": "@jupyter-widgets/base",
            "_model_module_version": "1.2.0",
            "_model_name": "LayoutModel",
            "_view_count": null,
            "_view_module": "@jupyter-widgets/base",
            "_view_module_version": "1.2.0",
            "_view_name": "LayoutView",
            "align_content": null,
            "align_items": null,
            "align_self": null,
            "border": null,
            "bottom": null,
            "display": null,
            "flex": null,
            "flex_flow": null,
            "grid_area": null,
            "grid_auto_columns": null,
            "grid_auto_flow": null,
            "grid_auto_rows": null,
            "grid_column": null,
            "grid_gap": null,
            "grid_row": null,
            "grid_template_areas": null,
            "grid_template_columns": null,
            "grid_template_rows": null,
            "height": null,
            "justify_content": null,
            "justify_items": null,
            "left": null,
            "margin": null,
            "max_height": null,
            "max_width": null,
            "min_height": null,
            "min_width": null,
            "object_fit": null,
            "object_position": null,
            "order": null,
            "overflow": null,
            "overflow_x": null,
            "overflow_y": null,
            "padding": null,
            "right": null,
            "top": null,
            "visibility": null,
            "width": null
          }
        },
        "48b017a47dde4b7ca06b3c50a379b14e": {
          "model_module": "@jupyter-widgets/controls",
          "model_name": "ProgressStyleModel",
          "model_module_version": "1.5.0",
          "state": {
            "_model_module": "@jupyter-widgets/controls",
            "_model_module_version": "1.5.0",
            "_model_name": "ProgressStyleModel",
            "_view_count": null,
            "_view_module": "@jupyter-widgets/base",
            "_view_module_version": "1.2.0",
            "_view_name": "StyleView",
            "bar_color": null,
            "description_width": ""
          }
        },
        "ee277a1d3cb5457bae871748e6acee0d": {
          "model_module": "@jupyter-widgets/base",
          "model_name": "LayoutModel",
          "model_module_version": "1.2.0",
          "state": {
            "_model_module": "@jupyter-widgets/base",
            "_model_module_version": "1.2.0",
            "_model_name": "LayoutModel",
            "_view_count": null,
            "_view_module": "@jupyter-widgets/base",
            "_view_module_version": "1.2.0",
            "_view_name": "LayoutView",
            "align_content": null,
            "align_items": null,
            "align_self": null,
            "border": null,
            "bottom": null,
            "display": null,
            "flex": null,
            "flex_flow": null,
            "grid_area": null,
            "grid_auto_columns": null,
            "grid_auto_flow": null,
            "grid_auto_rows": null,
            "grid_column": null,
            "grid_gap": null,
            "grid_row": null,
            "grid_template_areas": null,
            "grid_template_columns": null,
            "grid_template_rows": null,
            "height": null,
            "justify_content": null,
            "justify_items": null,
            "left": null,
            "margin": null,
            "max_height": null,
            "max_width": null,
            "min_height": null,
            "min_width": null,
            "object_fit": null,
            "object_position": null,
            "order": null,
            "overflow": null,
            "overflow_x": null,
            "overflow_y": null,
            "padding": null,
            "right": null,
            "top": null,
            "visibility": null,
            "width": null
          }
        },
        "8fdb9268fbaa45499581f5ec06f9a9db": {
          "model_module": "@jupyter-widgets/controls",
          "model_name": "DescriptionStyleModel",
          "model_module_version": "1.5.0",
          "state": {
            "_model_module": "@jupyter-widgets/controls",
            "_model_module_version": "1.5.0",
            "_model_name": "DescriptionStyleModel",
            "_view_count": null,
            "_view_module": "@jupyter-widgets/base",
            "_view_module_version": "1.2.0",
            "_view_name": "StyleView",
            "description_width": ""
          }
        },
        "acf6487782ae405c997a57924dc1ef00": {
          "model_module": "@jupyter-widgets/controls",
          "model_name": "HBoxModel",
          "model_module_version": "1.5.0",
          "state": {
            "_dom_classes": [],
            "_model_module": "@jupyter-widgets/controls",
            "_model_module_version": "1.5.0",
            "_model_name": "HBoxModel",
            "_view_count": null,
            "_view_module": "@jupyter-widgets/controls",
            "_view_module_version": "1.5.0",
            "_view_name": "HBoxView",
            "box_style": "",
            "children": [
              "IPY_MODEL_60ff61727b914160ae9f9d5f1ae5b95b",
              "IPY_MODEL_a4667c916f5d414ca63db61ad9a90c1c",
              "IPY_MODEL_a2275b911cd74f2da9a5a483f3099d49"
            ],
            "layout": "IPY_MODEL_9cd1a3126f3b404f87783450a9ddfc41"
          }
        },
        "60ff61727b914160ae9f9d5f1ae5b95b": {
          "model_module": "@jupyter-widgets/controls",
          "model_name": "HTMLModel",
          "model_module_version": "1.5.0",
          "state": {
            "_dom_classes": [],
            "_model_module": "@jupyter-widgets/controls",
            "_model_module_version": "1.5.0",
            "_model_name": "HTMLModel",
            "_view_count": null,
            "_view_module": "@jupyter-widgets/controls",
            "_view_module_version": "1.5.0",
            "_view_name": "HTMLView",
            "description": "",
            "description_tooltip": null,
            "layout": "IPY_MODEL_ead72b1e0b6f46edbadc50990ee298b5",
            "placeholder": "​",
            "style": "IPY_MODEL_636c20ed802f43ebba27b91b106d143d",
            "value": "model.safetensors: 100%"
          }
        },
        "a4667c916f5d414ca63db61ad9a90c1c": {
          "model_module": "@jupyter-widgets/controls",
          "model_name": "FloatProgressModel",
          "model_module_version": "1.5.0",
          "state": {
            "_dom_classes": [],
            "_model_module": "@jupyter-widgets/controls",
            "_model_module_version": "1.5.0",
            "_model_name": "FloatProgressModel",
            "_view_count": null,
            "_view_module": "@jupyter-widgets/controls",
            "_view_module_version": "1.5.0",
            "_view_name": "ProgressView",
            "bar_style": "success",
            "description": "",
            "description_tooltip": null,
            "layout": "IPY_MODEL_d8053137c3e840ebbc90e9323a6dbcd8",
            "max": 267844872,
            "min": 0,
            "orientation": "horizontal",
            "style": "IPY_MODEL_0e1f546f440e4fb98de027a3cbda84a3",
            "value": 267844872
          }
        },
        "a2275b911cd74f2da9a5a483f3099d49": {
          "model_module": "@jupyter-widgets/controls",
          "model_name": "HTMLModel",
          "model_module_version": "1.5.0",
          "state": {
            "_dom_classes": [],
            "_model_module": "@jupyter-widgets/controls",
            "_model_module_version": "1.5.0",
            "_model_name": "HTMLModel",
            "_view_count": null,
            "_view_module": "@jupyter-widgets/controls",
            "_view_module_version": "1.5.0",
            "_view_name": "HTMLView",
            "description": "",
            "description_tooltip": null,
            "layout": "IPY_MODEL_855cb4f8011a4b5a8f462ec6d0e762fb",
            "placeholder": "​",
            "style": "IPY_MODEL_e15f93f164f64d15b1ab834ac3bf8d5f",
            "value": " 268M/268M [00:05&lt;00:00, 59.4MB/s]"
          }
        },
        "9cd1a3126f3b404f87783450a9ddfc41": {
          "model_module": "@jupyter-widgets/base",
          "model_name": "LayoutModel",
          "model_module_version": "1.2.0",
          "state": {
            "_model_module": "@jupyter-widgets/base",
            "_model_module_version": "1.2.0",
            "_model_name": "LayoutModel",
            "_view_count": null,
            "_view_module": "@jupyter-widgets/base",
            "_view_module_version": "1.2.0",
            "_view_name": "LayoutView",
            "align_content": null,
            "align_items": null,
            "align_self": null,
            "border": null,
            "bottom": null,
            "display": null,
            "flex": null,
            "flex_flow": null,
            "grid_area": null,
            "grid_auto_columns": null,
            "grid_auto_flow": null,
            "grid_auto_rows": null,
            "grid_column": null,
            "grid_gap": null,
            "grid_row": null,
            "grid_template_areas": null,
            "grid_template_columns": null,
            "grid_template_rows": null,
            "height": null,
            "justify_content": null,
            "justify_items": null,
            "left": null,
            "margin": null,
            "max_height": null,
            "max_width": null,
            "min_height": null,
            "min_width": null,
            "object_fit": null,
            "object_position": null,
            "order": null,
            "overflow": null,
            "overflow_x": null,
            "overflow_y": null,
            "padding": null,
            "right": null,
            "top": null,
            "visibility": null,
            "width": null
          }
        },
        "ead72b1e0b6f46edbadc50990ee298b5": {
          "model_module": "@jupyter-widgets/base",
          "model_name": "LayoutModel",
          "model_module_version": "1.2.0",
          "state": {
            "_model_module": "@jupyter-widgets/base",
            "_model_module_version": "1.2.0",
            "_model_name": "LayoutModel",
            "_view_count": null,
            "_view_module": "@jupyter-widgets/base",
            "_view_module_version": "1.2.0",
            "_view_name": "LayoutView",
            "align_content": null,
            "align_items": null,
            "align_self": null,
            "border": null,
            "bottom": null,
            "display": null,
            "flex": null,
            "flex_flow": null,
            "grid_area": null,
            "grid_auto_columns": null,
            "grid_auto_flow": null,
            "grid_auto_rows": null,
            "grid_column": null,
            "grid_gap": null,
            "grid_row": null,
            "grid_template_areas": null,
            "grid_template_columns": null,
            "grid_template_rows": null,
            "height": null,
            "justify_content": null,
            "justify_items": null,
            "left": null,
            "margin": null,
            "max_height": null,
            "max_width": null,
            "min_height": null,
            "min_width": null,
            "object_fit": null,
            "object_position": null,
            "order": null,
            "overflow": null,
            "overflow_x": null,
            "overflow_y": null,
            "padding": null,
            "right": null,
            "top": null,
            "visibility": null,
            "width": null
          }
        },
        "636c20ed802f43ebba27b91b106d143d": {
          "model_module": "@jupyter-widgets/controls",
          "model_name": "DescriptionStyleModel",
          "model_module_version": "1.5.0",
          "state": {
            "_model_module": "@jupyter-widgets/controls",
            "_model_module_version": "1.5.0",
            "_model_name": "DescriptionStyleModel",
            "_view_count": null,
            "_view_module": "@jupyter-widgets/base",
            "_view_module_version": "1.2.0",
            "_view_name": "StyleView",
            "description_width": ""
          }
        },
        "d8053137c3e840ebbc90e9323a6dbcd8": {
          "model_module": "@jupyter-widgets/base",
          "model_name": "LayoutModel",
          "model_module_version": "1.2.0",
          "state": {
            "_model_module": "@jupyter-widgets/base",
            "_model_module_version": "1.2.0",
            "_model_name": "LayoutModel",
            "_view_count": null,
            "_view_module": "@jupyter-widgets/base",
            "_view_module_version": "1.2.0",
            "_view_name": "LayoutView",
            "align_content": null,
            "align_items": null,
            "align_self": null,
            "border": null,
            "bottom": null,
            "display": null,
            "flex": null,
            "flex_flow": null,
            "grid_area": null,
            "grid_auto_columns": null,
            "grid_auto_flow": null,
            "grid_auto_rows": null,
            "grid_column": null,
            "grid_gap": null,
            "grid_row": null,
            "grid_template_areas": null,
            "grid_template_columns": null,
            "grid_template_rows": null,
            "height": null,
            "justify_content": null,
            "justify_items": null,
            "left": null,
            "margin": null,
            "max_height": null,
            "max_width": null,
            "min_height": null,
            "min_width": null,
            "object_fit": null,
            "object_position": null,
            "order": null,
            "overflow": null,
            "overflow_x": null,
            "overflow_y": null,
            "padding": null,
            "right": null,
            "top": null,
            "visibility": null,
            "width": null
          }
        },
        "0e1f546f440e4fb98de027a3cbda84a3": {
          "model_module": "@jupyter-widgets/controls",
          "model_name": "ProgressStyleModel",
          "model_module_version": "1.5.0",
          "state": {
            "_model_module": "@jupyter-widgets/controls",
            "_model_module_version": "1.5.0",
            "_model_name": "ProgressStyleModel",
            "_view_count": null,
            "_view_module": "@jupyter-widgets/base",
            "_view_module_version": "1.2.0",
            "_view_name": "StyleView",
            "bar_color": null,
            "description_width": ""
          }
        },
        "855cb4f8011a4b5a8f462ec6d0e762fb": {
          "model_module": "@jupyter-widgets/base",
          "model_name": "LayoutModel",
          "model_module_version": "1.2.0",
          "state": {
            "_model_module": "@jupyter-widgets/base",
            "_model_module_version": "1.2.0",
            "_model_name": "LayoutModel",
            "_view_count": null,
            "_view_module": "@jupyter-widgets/base",
            "_view_module_version": "1.2.0",
            "_view_name": "LayoutView",
            "align_content": null,
            "align_items": null,
            "align_self": null,
            "border": null,
            "bottom": null,
            "display": null,
            "flex": null,
            "flex_flow": null,
            "grid_area": null,
            "grid_auto_columns": null,
            "grid_auto_flow": null,
            "grid_auto_rows": null,
            "grid_column": null,
            "grid_gap": null,
            "grid_row": null,
            "grid_template_areas": null,
            "grid_template_columns": null,
            "grid_template_rows": null,
            "height": null,
            "justify_content": null,
            "justify_items": null,
            "left": null,
            "margin": null,
            "max_height": null,
            "max_width": null,
            "min_height": null,
            "min_width": null,
            "object_fit": null,
            "object_position": null,
            "order": null,
            "overflow": null,
            "overflow_x": null,
            "overflow_y": null,
            "padding": null,
            "right": null,
            "top": null,
            "visibility": null,
            "width": null
          }
        },
        "e15f93f164f64d15b1ab834ac3bf8d5f": {
          "model_module": "@jupyter-widgets/controls",
          "model_name": "DescriptionStyleModel",
          "model_module_version": "1.5.0",
          "state": {
            "_model_module": "@jupyter-widgets/controls",
            "_model_module_version": "1.5.0",
            "_model_name": "DescriptionStyleModel",
            "_view_count": null,
            "_view_module": "@jupyter-widgets/base",
            "_view_module_version": "1.2.0",
            "_view_name": "StyleView",
            "description_width": ""
          }
        },
        "0029269ef43c4a34a3e983d69cc571ad": {
          "model_module": "@jupyter-widgets/controls",
          "model_name": "HBoxModel",
          "model_module_version": "1.5.0",
          "state": {
            "_dom_classes": [],
            "_model_module": "@jupyter-widgets/controls",
            "_model_module_version": "1.5.0",
            "_model_name": "HBoxModel",
            "_view_count": null,
            "_view_module": "@jupyter-widgets/controls",
            "_view_module_version": "1.5.0",
            "_view_name": "HBoxView",
            "box_style": "",
            "children": [
              "IPY_MODEL_d83589ee5854411dbb972be05118f88a",
              "IPY_MODEL_7dd87f286d2a4e5598dba69c5ca227f6",
              "IPY_MODEL_89c5ab48cf954f44bfd829db37344772"
            ],
            "layout": "IPY_MODEL_566af80574384fcca6c5a2e27520aca2"
          }
        },
        "d83589ee5854411dbb972be05118f88a": {
          "model_module": "@jupyter-widgets/controls",
          "model_name": "HTMLModel",
          "model_module_version": "1.5.0",
          "state": {
            "_dom_classes": [],
            "_model_module": "@jupyter-widgets/controls",
            "_model_module_version": "1.5.0",
            "_model_name": "HTMLModel",
            "_view_count": null,
            "_view_module": "@jupyter-widgets/controls",
            "_view_module_version": "1.5.0",
            "_view_name": "HTMLView",
            "description": "",
            "description_tooltip": null,
            "layout": "IPY_MODEL_4ab097e1c3cb4ffb91cddcb491390ccd",
            "placeholder": "​",
            "style": "IPY_MODEL_65bbfc66d5d84c4888ed95fa1c6af5cb",
            "value": "tokenizer_config.json: 100%"
          }
        },
        "7dd87f286d2a4e5598dba69c5ca227f6": {
          "model_module": "@jupyter-widgets/controls",
          "model_name": "FloatProgressModel",
          "model_module_version": "1.5.0",
          "state": {
            "_dom_classes": [],
            "_model_module": "@jupyter-widgets/controls",
            "_model_module_version": "1.5.0",
            "_model_name": "FloatProgressModel",
            "_view_count": null,
            "_view_module": "@jupyter-widgets/controls",
            "_view_module_version": "1.5.0",
            "_view_name": "ProgressView",
            "bar_style": "success",
            "description": "",
            "description_tooltip": null,
            "layout": "IPY_MODEL_f815223226f745089009b03fbffe7ab1",
            "max": 291,
            "min": 0,
            "orientation": "horizontal",
            "style": "IPY_MODEL_d7a035fa317b4d6b8674e177235e6e5a",
            "value": 291
          }
        },
        "89c5ab48cf954f44bfd829db37344772": {
          "model_module": "@jupyter-widgets/controls",
          "model_name": "HTMLModel",
          "model_module_version": "1.5.0",
          "state": {
            "_dom_classes": [],
            "_model_module": "@jupyter-widgets/controls",
            "_model_module_version": "1.5.0",
            "_model_name": "HTMLModel",
            "_view_count": null,
            "_view_module": "@jupyter-widgets/controls",
            "_view_module_version": "1.5.0",
            "_view_name": "HTMLView",
            "description": "",
            "description_tooltip": null,
            "layout": "IPY_MODEL_42946a2aea6943ae891dcc5cfcb1db12",
            "placeholder": "​",
            "style": "IPY_MODEL_211eb265a0b94abd9c561bba4ae5b65f",
            "value": " 291/291 [00:00&lt;00:00, 25.8kB/s]"
          }
        },
        "566af80574384fcca6c5a2e27520aca2": {
          "model_module": "@jupyter-widgets/base",
          "model_name": "LayoutModel",
          "model_module_version": "1.2.0",
          "state": {
            "_model_module": "@jupyter-widgets/base",
            "_model_module_version": "1.2.0",
            "_model_name": "LayoutModel",
            "_view_count": null,
            "_view_module": "@jupyter-widgets/base",
            "_view_module_version": "1.2.0",
            "_view_name": "LayoutView",
            "align_content": null,
            "align_items": null,
            "align_self": null,
            "border": null,
            "bottom": null,
            "display": null,
            "flex": null,
            "flex_flow": null,
            "grid_area": null,
            "grid_auto_columns": null,
            "grid_auto_flow": null,
            "grid_auto_rows": null,
            "grid_column": null,
            "grid_gap": null,
            "grid_row": null,
            "grid_template_areas": null,
            "grid_template_columns": null,
            "grid_template_rows": null,
            "height": null,
            "justify_content": null,
            "justify_items": null,
            "left": null,
            "margin": null,
            "max_height": null,
            "max_width": null,
            "min_height": null,
            "min_width": null,
            "object_fit": null,
            "object_position": null,
            "order": null,
            "overflow": null,
            "overflow_x": null,
            "overflow_y": null,
            "padding": null,
            "right": null,
            "top": null,
            "visibility": null,
            "width": null
          }
        },
        "4ab097e1c3cb4ffb91cddcb491390ccd": {
          "model_module": "@jupyter-widgets/base",
          "model_name": "LayoutModel",
          "model_module_version": "1.2.0",
          "state": {
            "_model_module": "@jupyter-widgets/base",
            "_model_module_version": "1.2.0",
            "_model_name": "LayoutModel",
            "_view_count": null,
            "_view_module": "@jupyter-widgets/base",
            "_view_module_version": "1.2.0",
            "_view_name": "LayoutView",
            "align_content": null,
            "align_items": null,
            "align_self": null,
            "border": null,
            "bottom": null,
            "display": null,
            "flex": null,
            "flex_flow": null,
            "grid_area": null,
            "grid_auto_columns": null,
            "grid_auto_flow": null,
            "grid_auto_rows": null,
            "grid_column": null,
            "grid_gap": null,
            "grid_row": null,
            "grid_template_areas": null,
            "grid_template_columns": null,
            "grid_template_rows": null,
            "height": null,
            "justify_content": null,
            "justify_items": null,
            "left": null,
            "margin": null,
            "max_height": null,
            "max_width": null,
            "min_height": null,
            "min_width": null,
            "object_fit": null,
            "object_position": null,
            "order": null,
            "overflow": null,
            "overflow_x": null,
            "overflow_y": null,
            "padding": null,
            "right": null,
            "top": null,
            "visibility": null,
            "width": null
          }
        },
        "65bbfc66d5d84c4888ed95fa1c6af5cb": {
          "model_module": "@jupyter-widgets/controls",
          "model_name": "DescriptionStyleModel",
          "model_module_version": "1.5.0",
          "state": {
            "_model_module": "@jupyter-widgets/controls",
            "_model_module_version": "1.5.0",
            "_model_name": "DescriptionStyleModel",
            "_view_count": null,
            "_view_module": "@jupyter-widgets/base",
            "_view_module_version": "1.2.0",
            "_view_name": "StyleView",
            "description_width": ""
          }
        },
        "f815223226f745089009b03fbffe7ab1": {
          "model_module": "@jupyter-widgets/base",
          "model_name": "LayoutModel",
          "model_module_version": "1.2.0",
          "state": {
            "_model_module": "@jupyter-widgets/base",
            "_model_module_version": "1.2.0",
            "_model_name": "LayoutModel",
            "_view_count": null,
            "_view_module": "@jupyter-widgets/base",
            "_view_module_version": "1.2.0",
            "_view_name": "LayoutView",
            "align_content": null,
            "align_items": null,
            "align_self": null,
            "border": null,
            "bottom": null,
            "display": null,
            "flex": null,
            "flex_flow": null,
            "grid_area": null,
            "grid_auto_columns": null,
            "grid_auto_flow": null,
            "grid_auto_rows": null,
            "grid_column": null,
            "grid_gap": null,
            "grid_row": null,
            "grid_template_areas": null,
            "grid_template_columns": null,
            "grid_template_rows": null,
            "height": null,
            "justify_content": null,
            "justify_items": null,
            "left": null,
            "margin": null,
            "max_height": null,
            "max_width": null,
            "min_height": null,
            "min_width": null,
            "object_fit": null,
            "object_position": null,
            "order": null,
            "overflow": null,
            "overflow_x": null,
            "overflow_y": null,
            "padding": null,
            "right": null,
            "top": null,
            "visibility": null,
            "width": null
          }
        },
        "d7a035fa317b4d6b8674e177235e6e5a": {
          "model_module": "@jupyter-widgets/controls",
          "model_name": "ProgressStyleModel",
          "model_module_version": "1.5.0",
          "state": {
            "_model_module": "@jupyter-widgets/controls",
            "_model_module_version": "1.5.0",
            "_model_name": "ProgressStyleModel",
            "_view_count": null,
            "_view_module": "@jupyter-widgets/base",
            "_view_module_version": "1.2.0",
            "_view_name": "StyleView",
            "bar_color": null,
            "description_width": ""
          }
        },
        "42946a2aea6943ae891dcc5cfcb1db12": {
          "model_module": "@jupyter-widgets/base",
          "model_name": "LayoutModel",
          "model_module_version": "1.2.0",
          "state": {
            "_model_module": "@jupyter-widgets/base",
            "_model_module_version": "1.2.0",
            "_model_name": "LayoutModel",
            "_view_count": null,
            "_view_module": "@jupyter-widgets/base",
            "_view_module_version": "1.2.0",
            "_view_name": "LayoutView",
            "align_content": null,
            "align_items": null,
            "align_self": null,
            "border": null,
            "bottom": null,
            "display": null,
            "flex": null,
            "flex_flow": null,
            "grid_area": null,
            "grid_auto_columns": null,
            "grid_auto_flow": null,
            "grid_auto_rows": null,
            "grid_column": null,
            "grid_gap": null,
            "grid_row": null,
            "grid_template_areas": null,
            "grid_template_columns": null,
            "grid_template_rows": null,
            "height": null,
            "justify_content": null,
            "justify_items": null,
            "left": null,
            "margin": null,
            "max_height": null,
            "max_width": null,
            "min_height": null,
            "min_width": null,
            "object_fit": null,
            "object_position": null,
            "order": null,
            "overflow": null,
            "overflow_x": null,
            "overflow_y": null,
            "padding": null,
            "right": null,
            "top": null,
            "visibility": null,
            "width": null
          }
        },
        "211eb265a0b94abd9c561bba4ae5b65f": {
          "model_module": "@jupyter-widgets/controls",
          "model_name": "DescriptionStyleModel",
          "model_module_version": "1.5.0",
          "state": {
            "_model_module": "@jupyter-widgets/controls",
            "_model_module_version": "1.5.0",
            "_model_name": "DescriptionStyleModel",
            "_view_count": null,
            "_view_module": "@jupyter-widgets/base",
            "_view_module_version": "1.2.0",
            "_view_name": "StyleView",
            "description_width": ""
          }
        },
        "e95afb9d60f54c5b99f37cfb1d060def": {
          "model_module": "@jupyter-widgets/controls",
          "model_name": "HBoxModel",
          "model_module_version": "1.5.0",
          "state": {
            "_dom_classes": [],
            "_model_module": "@jupyter-widgets/controls",
            "_model_module_version": "1.5.0",
            "_model_name": "HBoxModel",
            "_view_count": null,
            "_view_module": "@jupyter-widgets/controls",
            "_view_module_version": "1.5.0",
            "_view_name": "HBoxView",
            "box_style": "",
            "children": [
              "IPY_MODEL_def3fcd1cda34396814cf079d4b3cde3",
              "IPY_MODEL_2d69949423ac4cc0aaa2e98ca40d5b17",
              "IPY_MODEL_3e2bdf34355c4ea4b2878c5744982e32"
            ],
            "layout": "IPY_MODEL_e70b5fb04a824bf7ae7f23443b9a73d3"
          }
        },
        "def3fcd1cda34396814cf079d4b3cde3": {
          "model_module": "@jupyter-widgets/controls",
          "model_name": "HTMLModel",
          "model_module_version": "1.5.0",
          "state": {
            "_dom_classes": [],
            "_model_module": "@jupyter-widgets/controls",
            "_model_module_version": "1.5.0",
            "_model_name": "HTMLModel",
            "_view_count": null,
            "_view_module": "@jupyter-widgets/controls",
            "_view_module_version": "1.5.0",
            "_view_name": "HTMLView",
            "description": "",
            "description_tooltip": null,
            "layout": "IPY_MODEL_78072364af3941ab8961f5ece33bfdad",
            "placeholder": "​",
            "style": "IPY_MODEL_5109341e7ff04507b8e464923c954f59",
            "value": "vocab.txt: "
          }
        },
        "2d69949423ac4cc0aaa2e98ca40d5b17": {
          "model_module": "@jupyter-widgets/controls",
          "model_name": "FloatProgressModel",
          "model_module_version": "1.5.0",
          "state": {
            "_dom_classes": [],
            "_model_module": "@jupyter-widgets/controls",
            "_model_module_version": "1.5.0",
            "_model_name": "FloatProgressModel",
            "_view_count": null,
            "_view_module": "@jupyter-widgets/controls",
            "_view_module_version": "1.5.0",
            "_view_name": "ProgressView",
            "bar_style": "success",
            "description": "",
            "description_tooltip": null,
            "layout": "IPY_MODEL_b40d0665eaea4d0db6de81615be1537a",
            "max": 1,
            "min": 0,
            "orientation": "horizontal",
            "style": "IPY_MODEL_71b84dfe929f40a6be469befed17c594",
            "value": 1
          }
        },
        "3e2bdf34355c4ea4b2878c5744982e32": {
          "model_module": "@jupyter-widgets/controls",
          "model_name": "HTMLModel",
          "model_module_version": "1.5.0",
          "state": {
            "_dom_classes": [],
            "_model_module": "@jupyter-widgets/controls",
            "_model_module_version": "1.5.0",
            "_model_name": "HTMLModel",
            "_view_count": null,
            "_view_module": "@jupyter-widgets/controls",
            "_view_module_version": "1.5.0",
            "_view_name": "HTMLView",
            "description": "",
            "description_tooltip": null,
            "layout": "IPY_MODEL_3cfc886b2ba4444a831bbdbabcddb043",
            "placeholder": "​",
            "style": "IPY_MODEL_26e39cf04f5342feacf908748a6f50ea",
            "value": " 232k/? [00:00&lt;00:00, 12.6MB/s]"
          }
        },
        "e70b5fb04a824bf7ae7f23443b9a73d3": {
          "model_module": "@jupyter-widgets/base",
          "model_name": "LayoutModel",
          "model_module_version": "1.2.0",
          "state": {
            "_model_module": "@jupyter-widgets/base",
            "_model_module_version": "1.2.0",
            "_model_name": "LayoutModel",
            "_view_count": null,
            "_view_module": "@jupyter-widgets/base",
            "_view_module_version": "1.2.0",
            "_view_name": "LayoutView",
            "align_content": null,
            "align_items": null,
            "align_self": null,
            "border": null,
            "bottom": null,
            "display": null,
            "flex": null,
            "flex_flow": null,
            "grid_area": null,
            "grid_auto_columns": null,
            "grid_auto_flow": null,
            "grid_auto_rows": null,
            "grid_column": null,
            "grid_gap": null,
            "grid_row": null,
            "grid_template_areas": null,
            "grid_template_columns": null,
            "grid_template_rows": null,
            "height": null,
            "justify_content": null,
            "justify_items": null,
            "left": null,
            "margin": null,
            "max_height": null,
            "max_width": null,
            "min_height": null,
            "min_width": null,
            "object_fit": null,
            "object_position": null,
            "order": null,
            "overflow": null,
            "overflow_x": null,
            "overflow_y": null,
            "padding": null,
            "right": null,
            "top": null,
            "visibility": null,
            "width": null
          }
        },
        "78072364af3941ab8961f5ece33bfdad": {
          "model_module": "@jupyter-widgets/base",
          "model_name": "LayoutModel",
          "model_module_version": "1.2.0",
          "state": {
            "_model_module": "@jupyter-widgets/base",
            "_model_module_version": "1.2.0",
            "_model_name": "LayoutModel",
            "_view_count": null,
            "_view_module": "@jupyter-widgets/base",
            "_view_module_version": "1.2.0",
            "_view_name": "LayoutView",
            "align_content": null,
            "align_items": null,
            "align_self": null,
            "border": null,
            "bottom": null,
            "display": null,
            "flex": null,
            "flex_flow": null,
            "grid_area": null,
            "grid_auto_columns": null,
            "grid_auto_flow": null,
            "grid_auto_rows": null,
            "grid_column": null,
            "grid_gap": null,
            "grid_row": null,
            "grid_template_areas": null,
            "grid_template_columns": null,
            "grid_template_rows": null,
            "height": null,
            "justify_content": null,
            "justify_items": null,
            "left": null,
            "margin": null,
            "max_height": null,
            "max_width": null,
            "min_height": null,
            "min_width": null,
            "object_fit": null,
            "object_position": null,
            "order": null,
            "overflow": null,
            "overflow_x": null,
            "overflow_y": null,
            "padding": null,
            "right": null,
            "top": null,
            "visibility": null,
            "width": null
          }
        },
        "5109341e7ff04507b8e464923c954f59": {
          "model_module": "@jupyter-widgets/controls",
          "model_name": "DescriptionStyleModel",
          "model_module_version": "1.5.0",
          "state": {
            "_model_module": "@jupyter-widgets/controls",
            "_model_module_version": "1.5.0",
            "_model_name": "DescriptionStyleModel",
            "_view_count": null,
            "_view_module": "@jupyter-widgets/base",
            "_view_module_version": "1.2.0",
            "_view_name": "StyleView",
            "description_width": ""
          }
        },
        "b40d0665eaea4d0db6de81615be1537a": {
          "model_module": "@jupyter-widgets/base",
          "model_name": "LayoutModel",
          "model_module_version": "1.2.0",
          "state": {
            "_model_module": "@jupyter-widgets/base",
            "_model_module_version": "1.2.0",
            "_model_name": "LayoutModel",
            "_view_count": null,
            "_view_module": "@jupyter-widgets/base",
            "_view_module_version": "1.2.0",
            "_view_name": "LayoutView",
            "align_content": null,
            "align_items": null,
            "align_self": null,
            "border": null,
            "bottom": null,
            "display": null,
            "flex": null,
            "flex_flow": null,
            "grid_area": null,
            "grid_auto_columns": null,
            "grid_auto_flow": null,
            "grid_auto_rows": null,
            "grid_column": null,
            "grid_gap": null,
            "grid_row": null,
            "grid_template_areas": null,
            "grid_template_columns": null,
            "grid_template_rows": null,
            "height": null,
            "justify_content": null,
            "justify_items": null,
            "left": null,
            "margin": null,
            "max_height": null,
            "max_width": null,
            "min_height": null,
            "min_width": null,
            "object_fit": null,
            "object_position": null,
            "order": null,
            "overflow": null,
            "overflow_x": null,
            "overflow_y": null,
            "padding": null,
            "right": null,
            "top": null,
            "visibility": null,
            "width": "20px"
          }
        },
        "71b84dfe929f40a6be469befed17c594": {
          "model_module": "@jupyter-widgets/controls",
          "model_name": "ProgressStyleModel",
          "model_module_version": "1.5.0",
          "state": {
            "_model_module": "@jupyter-widgets/controls",
            "_model_module_version": "1.5.0",
            "_model_name": "ProgressStyleModel",
            "_view_count": null,
            "_view_module": "@jupyter-widgets/base",
            "_view_module_version": "1.2.0",
            "_view_name": "StyleView",
            "bar_color": null,
            "description_width": ""
          }
        },
        "3cfc886b2ba4444a831bbdbabcddb043": {
          "model_module": "@jupyter-widgets/base",
          "model_name": "LayoutModel",
          "model_module_version": "1.2.0",
          "state": {
            "_model_module": "@jupyter-widgets/base",
            "_model_module_version": "1.2.0",
            "_model_name": "LayoutModel",
            "_view_count": null,
            "_view_module": "@jupyter-widgets/base",
            "_view_module_version": "1.2.0",
            "_view_name": "LayoutView",
            "align_content": null,
            "align_items": null,
            "align_self": null,
            "border": null,
            "bottom": null,
            "display": null,
            "flex": null,
            "flex_flow": null,
            "grid_area": null,
            "grid_auto_columns": null,
            "grid_auto_flow": null,
            "grid_auto_rows": null,
            "grid_column": null,
            "grid_gap": null,
            "grid_row": null,
            "grid_template_areas": null,
            "grid_template_columns": null,
            "grid_template_rows": null,
            "height": null,
            "justify_content": null,
            "justify_items": null,
            "left": null,
            "margin": null,
            "max_height": null,
            "max_width": null,
            "min_height": null,
            "min_width": null,
            "object_fit": null,
            "object_position": null,
            "order": null,
            "overflow": null,
            "overflow_x": null,
            "overflow_y": null,
            "padding": null,
            "right": null,
            "top": null,
            "visibility": null,
            "width": null
          }
        },
        "26e39cf04f5342feacf908748a6f50ea": {
          "model_module": "@jupyter-widgets/controls",
          "model_name": "DescriptionStyleModel",
          "model_module_version": "1.5.0",
          "state": {
            "_model_module": "@jupyter-widgets/controls",
            "_model_module_version": "1.5.0",
            "_model_name": "DescriptionStyleModel",
            "_view_count": null,
            "_view_module": "@jupyter-widgets/base",
            "_view_module_version": "1.2.0",
            "_view_name": "StyleView",
            "description_width": ""
          }
        },
        "1ccd50ba83c341beba7588f2d92da777": {
          "model_module": "@jupyter-widgets/controls",
          "model_name": "HBoxModel",
          "model_module_version": "1.5.0",
          "state": {
            "_dom_classes": [],
            "_model_module": "@jupyter-widgets/controls",
            "_model_module_version": "1.5.0",
            "_model_name": "HBoxModel",
            "_view_count": null,
            "_view_module": "@jupyter-widgets/controls",
            "_view_module_version": "1.5.0",
            "_view_name": "HBoxView",
            "box_style": "",
            "children": [
              "IPY_MODEL_f85d8ac277ec4430b7c38d9b3d77c568",
              "IPY_MODEL_9a63603a5b5d46afa81f32c993940678",
              "IPY_MODEL_ffe080c7c83a4f8181ae9a3f13e17f61"
            ],
            "layout": "IPY_MODEL_e6ef63d03618457182b8f9888d2174bd"
          }
        },
        "f85d8ac277ec4430b7c38d9b3d77c568": {
          "model_module": "@jupyter-widgets/controls",
          "model_name": "HTMLModel",
          "model_module_version": "1.5.0",
          "state": {
            "_dom_classes": [],
            "_model_module": "@jupyter-widgets/controls",
            "_model_module_version": "1.5.0",
            "_model_name": "HTMLModel",
            "_view_count": null,
            "_view_module": "@jupyter-widgets/controls",
            "_view_module_version": "1.5.0",
            "_view_name": "HTMLView",
            "description": "",
            "description_tooltip": null,
            "layout": "IPY_MODEL_04bbbd75510748b8a32f37a127ec8b43",
            "placeholder": "​",
            "style": "IPY_MODEL_5a4522d59af84f11b2203e9dc43e34f1",
            "value": "special_tokens_map.json: 100%"
          }
        },
        "9a63603a5b5d46afa81f32c993940678": {
          "model_module": "@jupyter-widgets/controls",
          "model_name": "FloatProgressModel",
          "model_module_version": "1.5.0",
          "state": {
            "_dom_classes": [],
            "_model_module": "@jupyter-widgets/controls",
            "_model_module_version": "1.5.0",
            "_model_name": "FloatProgressModel",
            "_view_count": null,
            "_view_module": "@jupyter-widgets/controls",
            "_view_module_version": "1.5.0",
            "_view_name": "ProgressView",
            "bar_style": "success",
            "description": "",
            "description_tooltip": null,
            "layout": "IPY_MODEL_e93b8bf29bad4135aea45b49b7376dba",
            "max": 112,
            "min": 0,
            "orientation": "horizontal",
            "style": "IPY_MODEL_f2d79e2494954f638a6bffc3e1f6ef52",
            "value": 112
          }
        },
        "ffe080c7c83a4f8181ae9a3f13e17f61": {
          "model_module": "@jupyter-widgets/controls",
          "model_name": "HTMLModel",
          "model_module_version": "1.5.0",
          "state": {
            "_dom_classes": [],
            "_model_module": "@jupyter-widgets/controls",
            "_model_module_version": "1.5.0",
            "_model_name": "HTMLModel",
            "_view_count": null,
            "_view_module": "@jupyter-widgets/controls",
            "_view_module_version": "1.5.0",
            "_view_name": "HTMLView",
            "description": "",
            "description_tooltip": null,
            "layout": "IPY_MODEL_050a070c7f1a4be99b2aa0bc3e69aa4b",
            "placeholder": "​",
            "style": "IPY_MODEL_af86b215395a4765b73355a405ec7764",
            "value": " 112/112 [00:00&lt;00:00, 10.1kB/s]"
          }
        },
        "e6ef63d03618457182b8f9888d2174bd": {
          "model_module": "@jupyter-widgets/base",
          "model_name": "LayoutModel",
          "model_module_version": "1.2.0",
          "state": {
            "_model_module": "@jupyter-widgets/base",
            "_model_module_version": "1.2.0",
            "_model_name": "LayoutModel",
            "_view_count": null,
            "_view_module": "@jupyter-widgets/base",
            "_view_module_version": "1.2.0",
            "_view_name": "LayoutView",
            "align_content": null,
            "align_items": null,
            "align_self": null,
            "border": null,
            "bottom": null,
            "display": null,
            "flex": null,
            "flex_flow": null,
            "grid_area": null,
            "grid_auto_columns": null,
            "grid_auto_flow": null,
            "grid_auto_rows": null,
            "grid_column": null,
            "grid_gap": null,
            "grid_row": null,
            "grid_template_areas": null,
            "grid_template_columns": null,
            "grid_template_rows": null,
            "height": null,
            "justify_content": null,
            "justify_items": null,
            "left": null,
            "margin": null,
            "max_height": null,
            "max_width": null,
            "min_height": null,
            "min_width": null,
            "object_fit": null,
            "object_position": null,
            "order": null,
            "overflow": null,
            "overflow_x": null,
            "overflow_y": null,
            "padding": null,
            "right": null,
            "top": null,
            "visibility": null,
            "width": null
          }
        },
        "04bbbd75510748b8a32f37a127ec8b43": {
          "model_module": "@jupyter-widgets/base",
          "model_name": "LayoutModel",
          "model_module_version": "1.2.0",
          "state": {
            "_model_module": "@jupyter-widgets/base",
            "_model_module_version": "1.2.0",
            "_model_name": "LayoutModel",
            "_view_count": null,
            "_view_module": "@jupyter-widgets/base",
            "_view_module_version": "1.2.0",
            "_view_name": "LayoutView",
            "align_content": null,
            "align_items": null,
            "align_self": null,
            "border": null,
            "bottom": null,
            "display": null,
            "flex": null,
            "flex_flow": null,
            "grid_area": null,
            "grid_auto_columns": null,
            "grid_auto_flow": null,
            "grid_auto_rows": null,
            "grid_column": null,
            "grid_gap": null,
            "grid_row": null,
            "grid_template_areas": null,
            "grid_template_columns": null,
            "grid_template_rows": null,
            "height": null,
            "justify_content": null,
            "justify_items": null,
            "left": null,
            "margin": null,
            "max_height": null,
            "max_width": null,
            "min_height": null,
            "min_width": null,
            "object_fit": null,
            "object_position": null,
            "order": null,
            "overflow": null,
            "overflow_x": null,
            "overflow_y": null,
            "padding": null,
            "right": null,
            "top": null,
            "visibility": null,
            "width": null
          }
        },
        "5a4522d59af84f11b2203e9dc43e34f1": {
          "model_module": "@jupyter-widgets/controls",
          "model_name": "DescriptionStyleModel",
          "model_module_version": "1.5.0",
          "state": {
            "_model_module": "@jupyter-widgets/controls",
            "_model_module_version": "1.5.0",
            "_model_name": "DescriptionStyleModel",
            "_view_count": null,
            "_view_module": "@jupyter-widgets/base",
            "_view_module_version": "1.2.0",
            "_view_name": "StyleView",
            "description_width": ""
          }
        },
        "e93b8bf29bad4135aea45b49b7376dba": {
          "model_module": "@jupyter-widgets/base",
          "model_name": "LayoutModel",
          "model_module_version": "1.2.0",
          "state": {
            "_model_module": "@jupyter-widgets/base",
            "_model_module_version": "1.2.0",
            "_model_name": "LayoutModel",
            "_view_count": null,
            "_view_module": "@jupyter-widgets/base",
            "_view_module_version": "1.2.0",
            "_view_name": "LayoutView",
            "align_content": null,
            "align_items": null,
            "align_self": null,
            "border": null,
            "bottom": null,
            "display": null,
            "flex": null,
            "flex_flow": null,
            "grid_area": null,
            "grid_auto_columns": null,
            "grid_auto_flow": null,
            "grid_auto_rows": null,
            "grid_column": null,
            "grid_gap": null,
            "grid_row": null,
            "grid_template_areas": null,
            "grid_template_columns": null,
            "grid_template_rows": null,
            "height": null,
            "justify_content": null,
            "justify_items": null,
            "left": null,
            "margin": null,
            "max_height": null,
            "max_width": null,
            "min_height": null,
            "min_width": null,
            "object_fit": null,
            "object_position": null,
            "order": null,
            "overflow": null,
            "overflow_x": null,
            "overflow_y": null,
            "padding": null,
            "right": null,
            "top": null,
            "visibility": null,
            "width": null
          }
        },
        "f2d79e2494954f638a6bffc3e1f6ef52": {
          "model_module": "@jupyter-widgets/controls",
          "model_name": "ProgressStyleModel",
          "model_module_version": "1.5.0",
          "state": {
            "_model_module": "@jupyter-widgets/controls",
            "_model_module_version": "1.5.0",
            "_model_name": "ProgressStyleModel",
            "_view_count": null,
            "_view_module": "@jupyter-widgets/base",
            "_view_module_version": "1.2.0",
            "_view_name": "StyleView",
            "bar_color": null,
            "description_width": ""
          }
        },
        "050a070c7f1a4be99b2aa0bc3e69aa4b": {
          "model_module": "@jupyter-widgets/base",
          "model_name": "LayoutModel",
          "model_module_version": "1.2.0",
          "state": {
            "_model_module": "@jupyter-widgets/base",
            "_model_module_version": "1.2.0",
            "_model_name": "LayoutModel",
            "_view_count": null,
            "_view_module": "@jupyter-widgets/base",
            "_view_module_version": "1.2.0",
            "_view_name": "LayoutView",
            "align_content": null,
            "align_items": null,
            "align_self": null,
            "border": null,
            "bottom": null,
            "display": null,
            "flex": null,
            "flex_flow": null,
            "grid_area": null,
            "grid_auto_columns": null,
            "grid_auto_flow": null,
            "grid_auto_rows": null,
            "grid_column": null,
            "grid_gap": null,
            "grid_row": null,
            "grid_template_areas": null,
            "grid_template_columns": null,
            "grid_template_rows": null,
            "height": null,
            "justify_content": null,
            "justify_items": null,
            "left": null,
            "margin": null,
            "max_height": null,
            "max_width": null,
            "min_height": null,
            "min_width": null,
            "object_fit": null,
            "object_position": null,
            "order": null,
            "overflow": null,
            "overflow_x": null,
            "overflow_y": null,
            "padding": null,
            "right": null,
            "top": null,
            "visibility": null,
            "width": null
          }
        },
        "af86b215395a4765b73355a405ec7764": {
          "model_module": "@jupyter-widgets/controls",
          "model_name": "DescriptionStyleModel",
          "model_module_version": "1.5.0",
          "state": {
            "_model_module": "@jupyter-widgets/controls",
            "_model_module_version": "1.5.0",
            "_model_name": "DescriptionStyleModel",
            "_view_count": null,
            "_view_module": "@jupyter-widgets/base",
            "_view_module_version": "1.2.0",
            "_view_name": "StyleView",
            "description_width": ""
          }
        }
      }
    }
  },
  "nbformat": 4,
  "nbformat_minor": 5
}